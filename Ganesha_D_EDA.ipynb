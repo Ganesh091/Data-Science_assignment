{
 "cells": [
  {
   "cell_type": "code",
   "execution_count": 6,
   "id": "ff51cd3f",
   "metadata": {},
   "outputs": [
    {
     "name": "stdout",
     "output_type": "stream",
     "text": [
      "Customers Dataset:\n"
     ]
    },
    {
     "data": {
      "text/html": [
       "<div>\n",
       "<style scoped>\n",
       "    .dataframe tbody tr th:only-of-type {\n",
       "        vertical-align: middle;\n",
       "    }\n",
       "\n",
       "    .dataframe tbody tr th {\n",
       "        vertical-align: top;\n",
       "    }\n",
       "\n",
       "    .dataframe thead th {\n",
       "        text-align: right;\n",
       "    }\n",
       "</style>\n",
       "<table border=\"1\" class=\"dataframe\">\n",
       "  <thead>\n",
       "    <tr style=\"text-align: right;\">\n",
       "      <th></th>\n",
       "      <th>CustomerID</th>\n",
       "      <th>CustomerName</th>\n",
       "      <th>Region</th>\n",
       "      <th>SignupDate</th>\n",
       "    </tr>\n",
       "  </thead>\n",
       "  <tbody>\n",
       "    <tr>\n",
       "      <th>0</th>\n",
       "      <td>C0001</td>\n",
       "      <td>Lawrence Carroll</td>\n",
       "      <td>South America</td>\n",
       "      <td>2022-07-10</td>\n",
       "    </tr>\n",
       "    <tr>\n",
       "      <th>1</th>\n",
       "      <td>C0002</td>\n",
       "      <td>Elizabeth Lutz</td>\n",
       "      <td>Asia</td>\n",
       "      <td>2022-02-13</td>\n",
       "    </tr>\n",
       "    <tr>\n",
       "      <th>2</th>\n",
       "      <td>C0003</td>\n",
       "      <td>Michael Rivera</td>\n",
       "      <td>South America</td>\n",
       "      <td>2024-03-07</td>\n",
       "    </tr>\n",
       "    <tr>\n",
       "      <th>3</th>\n",
       "      <td>C0004</td>\n",
       "      <td>Kathleen Rodriguez</td>\n",
       "      <td>South America</td>\n",
       "      <td>2022-10-09</td>\n",
       "    </tr>\n",
       "    <tr>\n",
       "      <th>4</th>\n",
       "      <td>C0005</td>\n",
       "      <td>Laura Weber</td>\n",
       "      <td>Asia</td>\n",
       "      <td>2022-08-15</td>\n",
       "    </tr>\n",
       "  </tbody>\n",
       "</table>\n",
       "</div>"
      ],
      "text/plain": [
       "  CustomerID        CustomerName         Region  SignupDate\n",
       "0      C0001    Lawrence Carroll  South America  2022-07-10\n",
       "1      C0002      Elizabeth Lutz           Asia  2022-02-13\n",
       "2      C0003      Michael Rivera  South America  2024-03-07\n",
       "3      C0004  Kathleen Rodriguez  South America  2022-10-09\n",
       "4      C0005         Laura Weber           Asia  2022-08-15"
      ]
     },
     "metadata": {},
     "output_type": "display_data"
    },
    {
     "name": "stdout",
     "output_type": "stream",
     "text": [
      "Products Dataset:\n"
     ]
    },
    {
     "data": {
      "text/html": [
       "<div>\n",
       "<style scoped>\n",
       "    .dataframe tbody tr th:only-of-type {\n",
       "        vertical-align: middle;\n",
       "    }\n",
       "\n",
       "    .dataframe tbody tr th {\n",
       "        vertical-align: top;\n",
       "    }\n",
       "\n",
       "    .dataframe thead th {\n",
       "        text-align: right;\n",
       "    }\n",
       "</style>\n",
       "<table border=\"1\" class=\"dataframe\">\n",
       "  <thead>\n",
       "    <tr style=\"text-align: right;\">\n",
       "      <th></th>\n",
       "      <th>ProductID</th>\n",
       "      <th>ProductName</th>\n",
       "      <th>Category</th>\n",
       "      <th>Price</th>\n",
       "    </tr>\n",
       "  </thead>\n",
       "  <tbody>\n",
       "    <tr>\n",
       "      <th>0</th>\n",
       "      <td>P001</td>\n",
       "      <td>ActiveWear Biography</td>\n",
       "      <td>Books</td>\n",
       "      <td>169.30</td>\n",
       "    </tr>\n",
       "    <tr>\n",
       "      <th>1</th>\n",
       "      <td>P002</td>\n",
       "      <td>ActiveWear Smartwatch</td>\n",
       "      <td>Electronics</td>\n",
       "      <td>346.30</td>\n",
       "    </tr>\n",
       "    <tr>\n",
       "      <th>2</th>\n",
       "      <td>P003</td>\n",
       "      <td>ComfortLiving Biography</td>\n",
       "      <td>Books</td>\n",
       "      <td>44.12</td>\n",
       "    </tr>\n",
       "    <tr>\n",
       "      <th>3</th>\n",
       "      <td>P004</td>\n",
       "      <td>BookWorld Rug</td>\n",
       "      <td>Home Decor</td>\n",
       "      <td>95.69</td>\n",
       "    </tr>\n",
       "    <tr>\n",
       "      <th>4</th>\n",
       "      <td>P005</td>\n",
       "      <td>TechPro T-Shirt</td>\n",
       "      <td>Clothing</td>\n",
       "      <td>429.31</td>\n",
       "    </tr>\n",
       "  </tbody>\n",
       "</table>\n",
       "</div>"
      ],
      "text/plain": [
       "  ProductID              ProductName     Category   Price\n",
       "0      P001     ActiveWear Biography        Books  169.30\n",
       "1      P002    ActiveWear Smartwatch  Electronics  346.30\n",
       "2      P003  ComfortLiving Biography        Books   44.12\n",
       "3      P004            BookWorld Rug   Home Decor   95.69\n",
       "4      P005          TechPro T-Shirt     Clothing  429.31"
      ]
     },
     "metadata": {},
     "output_type": "display_data"
    },
    {
     "name": "stdout",
     "output_type": "stream",
     "text": [
      "Transactions Dataset:\n"
     ]
    },
    {
     "data": {
      "text/html": [
       "<div>\n",
       "<style scoped>\n",
       "    .dataframe tbody tr th:only-of-type {\n",
       "        vertical-align: middle;\n",
       "    }\n",
       "\n",
       "    .dataframe tbody tr th {\n",
       "        vertical-align: top;\n",
       "    }\n",
       "\n",
       "    .dataframe thead th {\n",
       "        text-align: right;\n",
       "    }\n",
       "</style>\n",
       "<table border=\"1\" class=\"dataframe\">\n",
       "  <thead>\n",
       "    <tr style=\"text-align: right;\">\n",
       "      <th></th>\n",
       "      <th>TransactionID</th>\n",
       "      <th>CustomerID</th>\n",
       "      <th>ProductID</th>\n",
       "      <th>TransactionDate</th>\n",
       "      <th>Quantity</th>\n",
       "      <th>TotalValue</th>\n",
       "      <th>Price</th>\n",
       "    </tr>\n",
       "  </thead>\n",
       "  <tbody>\n",
       "    <tr>\n",
       "      <th>0</th>\n",
       "      <td>T00001</td>\n",
       "      <td>C0199</td>\n",
       "      <td>P067</td>\n",
       "      <td>2024-08-25 12:38:23</td>\n",
       "      <td>1</td>\n",
       "      <td>300.68</td>\n",
       "      <td>300.68</td>\n",
       "    </tr>\n",
       "    <tr>\n",
       "      <th>1</th>\n",
       "      <td>T00112</td>\n",
       "      <td>C0146</td>\n",
       "      <td>P067</td>\n",
       "      <td>2024-05-27 22:23:54</td>\n",
       "      <td>1</td>\n",
       "      <td>300.68</td>\n",
       "      <td>300.68</td>\n",
       "    </tr>\n",
       "    <tr>\n",
       "      <th>2</th>\n",
       "      <td>T00166</td>\n",
       "      <td>C0127</td>\n",
       "      <td>P067</td>\n",
       "      <td>2024-04-25 07:38:55</td>\n",
       "      <td>1</td>\n",
       "      <td>300.68</td>\n",
       "      <td>300.68</td>\n",
       "    </tr>\n",
       "    <tr>\n",
       "      <th>3</th>\n",
       "      <td>T00272</td>\n",
       "      <td>C0087</td>\n",
       "      <td>P067</td>\n",
       "      <td>2024-03-26 22:55:37</td>\n",
       "      <td>2</td>\n",
       "      <td>601.36</td>\n",
       "      <td>300.68</td>\n",
       "    </tr>\n",
       "    <tr>\n",
       "      <th>4</th>\n",
       "      <td>T00363</td>\n",
       "      <td>C0070</td>\n",
       "      <td>P067</td>\n",
       "      <td>2024-03-21 15:10:10</td>\n",
       "      <td>3</td>\n",
       "      <td>902.04</td>\n",
       "      <td>300.68</td>\n",
       "    </tr>\n",
       "  </tbody>\n",
       "</table>\n",
       "</div>"
      ],
      "text/plain": [
       "  TransactionID CustomerID ProductID      TransactionDate  Quantity  \\\n",
       "0        T00001      C0199      P067  2024-08-25 12:38:23         1   \n",
       "1        T00112      C0146      P067  2024-05-27 22:23:54         1   \n",
       "2        T00166      C0127      P067  2024-04-25 07:38:55         1   \n",
       "3        T00272      C0087      P067  2024-03-26 22:55:37         2   \n",
       "4        T00363      C0070      P067  2024-03-21 15:10:10         3   \n",
       "\n",
       "   TotalValue   Price  \n",
       "0      300.68  300.68  \n",
       "1      300.68  300.68  \n",
       "2      300.68  300.68  \n",
       "3      601.36  300.68  \n",
       "4      902.04  300.68  "
      ]
     },
     "metadata": {},
     "output_type": "display_data"
    },
    {
     "name": "stdout",
     "output_type": "stream",
     "text": [
      "Merged Dataset:\n"
     ]
    },
    {
     "data": {
      "text/html": [
       "<div>\n",
       "<style scoped>\n",
       "    .dataframe tbody tr th:only-of-type {\n",
       "        vertical-align: middle;\n",
       "    }\n",
       "\n",
       "    .dataframe tbody tr th {\n",
       "        vertical-align: top;\n",
       "    }\n",
       "\n",
       "    .dataframe thead th {\n",
       "        text-align: right;\n",
       "    }\n",
       "</style>\n",
       "<table border=\"1\" class=\"dataframe\">\n",
       "  <thead>\n",
       "    <tr style=\"text-align: right;\">\n",
       "      <th></th>\n",
       "      <th>TransactionID</th>\n",
       "      <th>CustomerID</th>\n",
       "      <th>ProductID</th>\n",
       "      <th>TransactionDate</th>\n",
       "      <th>Quantity</th>\n",
       "      <th>TotalValue</th>\n",
       "      <th>Price_x</th>\n",
       "      <th>CustomerName</th>\n",
       "      <th>Region</th>\n",
       "      <th>SignupDate</th>\n",
       "      <th>ProductName</th>\n",
       "      <th>Category</th>\n",
       "      <th>Price_y</th>\n",
       "    </tr>\n",
       "  </thead>\n",
       "  <tbody>\n",
       "    <tr>\n",
       "      <th>0</th>\n",
       "      <td>T00001</td>\n",
       "      <td>C0199</td>\n",
       "      <td>P067</td>\n",
       "      <td>2024-08-25 12:38:23</td>\n",
       "      <td>1</td>\n",
       "      <td>300.68</td>\n",
       "      <td>300.68</td>\n",
       "      <td>Andrea Jenkins</td>\n",
       "      <td>Europe</td>\n",
       "      <td>2022-12-03</td>\n",
       "      <td>ComfortLiving Bluetooth Speaker</td>\n",
       "      <td>Electronics</td>\n",
       "      <td>300.68</td>\n",
       "    </tr>\n",
       "    <tr>\n",
       "      <th>1</th>\n",
       "      <td>T00112</td>\n",
       "      <td>C0146</td>\n",
       "      <td>P067</td>\n",
       "      <td>2024-05-27 22:23:54</td>\n",
       "      <td>1</td>\n",
       "      <td>300.68</td>\n",
       "      <td>300.68</td>\n",
       "      <td>Brittany Harvey</td>\n",
       "      <td>Asia</td>\n",
       "      <td>2024-09-04</td>\n",
       "      <td>ComfortLiving Bluetooth Speaker</td>\n",
       "      <td>Electronics</td>\n",
       "      <td>300.68</td>\n",
       "    </tr>\n",
       "    <tr>\n",
       "      <th>2</th>\n",
       "      <td>T00166</td>\n",
       "      <td>C0127</td>\n",
       "      <td>P067</td>\n",
       "      <td>2024-04-25 07:38:55</td>\n",
       "      <td>1</td>\n",
       "      <td>300.68</td>\n",
       "      <td>300.68</td>\n",
       "      <td>Kathryn Stevens</td>\n",
       "      <td>Europe</td>\n",
       "      <td>2024-04-04</td>\n",
       "      <td>ComfortLiving Bluetooth Speaker</td>\n",
       "      <td>Electronics</td>\n",
       "      <td>300.68</td>\n",
       "    </tr>\n",
       "    <tr>\n",
       "      <th>3</th>\n",
       "      <td>T00272</td>\n",
       "      <td>C0087</td>\n",
       "      <td>P067</td>\n",
       "      <td>2024-03-26 22:55:37</td>\n",
       "      <td>2</td>\n",
       "      <td>601.36</td>\n",
       "      <td>300.68</td>\n",
       "      <td>Travis Campbell</td>\n",
       "      <td>South America</td>\n",
       "      <td>2024-04-11</td>\n",
       "      <td>ComfortLiving Bluetooth Speaker</td>\n",
       "      <td>Electronics</td>\n",
       "      <td>300.68</td>\n",
       "    </tr>\n",
       "    <tr>\n",
       "      <th>4</th>\n",
       "      <td>T00363</td>\n",
       "      <td>C0070</td>\n",
       "      <td>P067</td>\n",
       "      <td>2024-03-21 15:10:10</td>\n",
       "      <td>3</td>\n",
       "      <td>902.04</td>\n",
       "      <td>300.68</td>\n",
       "      <td>Timothy Perez</td>\n",
       "      <td>Europe</td>\n",
       "      <td>2022-03-15</td>\n",
       "      <td>ComfortLiving Bluetooth Speaker</td>\n",
       "      <td>Electronics</td>\n",
       "      <td>300.68</td>\n",
       "    </tr>\n",
       "  </tbody>\n",
       "</table>\n",
       "</div>"
      ],
      "text/plain": [
       "  TransactionID CustomerID ProductID      TransactionDate  Quantity  \\\n",
       "0        T00001      C0199      P067  2024-08-25 12:38:23         1   \n",
       "1        T00112      C0146      P067  2024-05-27 22:23:54         1   \n",
       "2        T00166      C0127      P067  2024-04-25 07:38:55         1   \n",
       "3        T00272      C0087      P067  2024-03-26 22:55:37         2   \n",
       "4        T00363      C0070      P067  2024-03-21 15:10:10         3   \n",
       "\n",
       "   TotalValue  Price_x     CustomerName         Region  SignupDate  \\\n",
       "0      300.68   300.68   Andrea Jenkins         Europe  2022-12-03   \n",
       "1      300.68   300.68  Brittany Harvey           Asia  2024-09-04   \n",
       "2      300.68   300.68  Kathryn Stevens         Europe  2024-04-04   \n",
       "3      601.36   300.68  Travis Campbell  South America  2024-04-11   \n",
       "4      902.04   300.68    Timothy Perez         Europe  2022-03-15   \n",
       "\n",
       "                       ProductName     Category  Price_y  \n",
       "0  ComfortLiving Bluetooth Speaker  Electronics   300.68  \n",
       "1  ComfortLiving Bluetooth Speaker  Electronics   300.68  \n",
       "2  ComfortLiving Bluetooth Speaker  Electronics   300.68  \n",
       "3  ComfortLiving Bluetooth Speaker  Electronics   300.68  \n",
       "4  ComfortLiving Bluetooth Speaker  Electronics   300.68  "
      ]
     },
     "metadata": {},
     "output_type": "display_data"
    },
    {
     "name": "stdout",
     "output_type": "stream",
     "text": [
      "Dataset Shape: (1000, 13)\n",
      "Columns: Index(['TransactionID', 'CustomerID', 'ProductID', 'TransactionDate',\n",
      "       'Quantity', 'TotalValue', 'Price_x', 'CustomerName', 'Region',\n",
      "       'SignupDate', 'ProductName', 'Category', 'Price_y'],\n",
      "      dtype='object')\n",
      "Missing Values:\n",
      "TransactionID      0\n",
      "CustomerID         0\n",
      "ProductID          0\n",
      "TransactionDate    0\n",
      "Quantity           0\n",
      "TotalValue         0\n",
      "Price_x            0\n",
      "CustomerName       0\n",
      "Region             0\n",
      "SignupDate         0\n",
      "ProductName        0\n",
      "Category           0\n",
      "Price_y            0\n",
      "dtype: int64\n",
      "Basic Statistics:\n",
      "          Quantity   TotalValue     Price_x     Price_y\n",
      "count  1000.000000  1000.000000  1000.00000  1000.00000\n",
      "mean      2.537000   689.995560   272.55407   272.55407\n",
      "std       1.117981   493.144478   140.73639   140.73639\n",
      "min       1.000000    16.080000    16.08000    16.08000\n",
      "25%       2.000000   295.295000   147.95000   147.95000\n",
      "50%       3.000000   588.880000   299.93000   299.93000\n",
      "75%       4.000000  1011.660000   404.40000   404.40000\n",
      "max       4.000000  1991.040000   497.76000   497.76000\n"
     ]
    }
   ],
   "source": [
    "import pandas as pd\n",
    "import matplotlib.pyplot as plt\n",
    "import plotly.express as px\n",
    "\n",
    "url_customer = \"https://drive.google.com/uc?export=download&id=1bu_--mo79VdUG9oin4ybfFGRUSXAe-WE\"\n",
    "url_product = \"https://drive.google.com/uc?export=download&id=1IKuDizVapw-hyktwfpoAoaGtHtTNHfd0\"\n",
    "url_transaction = \"https://drive.google.com/uc?export=download&id=1saEqdbBB-vuk2hxoAf4TzDEsykdKlzbF\"\n",
    "\n",
    "customers = pd.read_csv(url_customer)\n",
    "products = pd.read_csv(url_product)\n",
    "transactions = pd.read_csv(url_transaction)\n",
    "\n",
    "print(\"Customers Dataset:\")\n",
    "display(customers.head())\n",
    "\n",
    "print(\"Products Dataset:\")\n",
    "display(products.head())\n",
    "\n",
    "print(\"Transactions Dataset:\")\n",
    "display(transactions.head())\n",
    "\n",
    "data = transactions.merge(customers, on=\"CustomerID\").merge(products, on=\"ProductID\")\n",
    "\n",
    "print(\"Merged Dataset:\")\n",
    "display(data.head())\n",
    "\n",
    "print(f\"Dataset Shape: {data.shape}\")\n",
    "print(\"Columns:\", data.columns)\n",
    "\n",
    "print(\"Missing Values:\")\n",
    "print(data.isnull().sum())\n",
    "print(\"Basic Statistics:\")\n",
    "print(data.describe())\n"
   ]
  },
  {
   "cell_type": "code",
   "execution_count": 5,
   "id": "a8317af9",
   "metadata": {},
   "outputs": [
    {
     "data": {
      "application/vnd.plotly.v1+json": {
       "config": {
        "plotlyServerURL": "https://plot.ly"
       },
       "data": [
        {
         "alignmentgroup": "True",
         "hovertemplate": "Region=%{x}<br>Transaction Value=%{y}<extra></extra>",
         "legendgroup": "",
         "marker": {
          "color": "#636efa"
         },
         "name": "",
         "notched": false,
         "offsetgroup": "",
         "orientation": "v",
         "showlegend": false,
         "type": "box",
         "x": [
          "Europe",
          "Asia",
          "Europe",
          "South America",
          "Europe",
          "South America",
          "South America",
          "North America",
          "North America",
          "South America",
          "Europe",
          "Europe",
          "South America",
          "Europe",
          "South America",
          "North America",
          "North America",
          "North America",
          "Europe",
          "North America",
          "Europe",
          "South America",
          "South America",
          "North America",
          "South America",
          "Asia",
          "Asia",
          "Europe",
          "Europe",
          "North America",
          "Asia",
          "South America",
          "Asia",
          "Asia",
          "Europe",
          "North America",
          "Asia",
          "South America",
          "South America",
          "South America",
          "Europe",
          "Europe",
          "Europe",
          "South America",
          "Europe",
          "North America",
          "South America",
          "North America",
          "Europe",
          "Europe",
          "Asia",
          "Europe",
          "Asia",
          "Asia",
          "Asia",
          "South America",
          "North America",
          "Europe",
          "South America",
          "North America",
          "Europe",
          "North America",
          "North America",
          "South America",
          "Asia",
          "Asia",
          "Europe",
          "South America",
          "Europe",
          "South America",
          "Europe",
          "North America",
          "North America",
          "North America",
          "Asia",
          "Asia",
          "South America",
          "North America",
          "South America",
          "South America",
          "North America",
          "South America",
          "Europe",
          "Europe",
          "South America",
          "South America",
          "Asia",
          "South America",
          "South America",
          "Europe",
          "North America",
          "North America",
          "Europe",
          "South America",
          "Europe",
          "North America",
          "Asia",
          "South America",
          "Asia",
          "Europe",
          "Europe",
          "North America",
          "Europe",
          "North America",
          "North America",
          "Europe",
          "North America",
          "Asia",
          "North America",
          "Europe",
          "South America",
          "South America",
          "South America",
          "Europe",
          "North America",
          "North America",
          "Europe",
          "North America",
          "South America",
          "North America",
          "Europe",
          "South America",
          "Europe",
          "North America",
          "Europe",
          "South America",
          "Asia",
          "Asia",
          "South America",
          "North America",
          "South America",
          "South America",
          "South America",
          "North America",
          "Asia",
          "Asia",
          "Europe",
          "Europe",
          "Europe",
          "South America",
          "South America",
          "Asia",
          "Asia",
          "South America",
          "South America",
          "South America",
          "Asia",
          "Asia",
          "Asia",
          "Asia",
          "North America",
          "South America",
          "North America",
          "South America",
          "North America",
          "South America",
          "Europe",
          "Asia",
          "South America",
          "Europe",
          "Europe",
          "South America",
          "Europe",
          "North America",
          "Europe",
          "Europe",
          "North America",
          "Asia",
          "North America",
          "Europe",
          "Europe",
          "Asia",
          "Asia",
          "South America",
          "South America",
          "South America",
          "Asia",
          "North America",
          "Europe",
          "North America",
          "Asia",
          "Europe",
          "North America",
          "South America",
          "South America",
          "Asia",
          "South America",
          "Asia",
          "Europe",
          "South America",
          "North America",
          "Asia",
          "Europe",
          "North America",
          "South America",
          "Asia",
          "Europe",
          "South America",
          "South America",
          "South America",
          "Europe",
          "Asia",
          "North America",
          "North America",
          "North America",
          "Europe",
          "Asia",
          "Europe",
          "Asia",
          "Asia",
          "South America",
          "North America",
          "North America",
          "Europe",
          "Europe",
          "Europe",
          "South America",
          "Europe",
          "Europe",
          "South America",
          "Europe",
          "North America",
          "South America",
          "Europe",
          "Europe",
          "South America",
          "Europe",
          "North America",
          "Europe",
          "North America",
          "South America",
          "South America",
          "South America",
          "South America",
          "Asia",
          "Asia",
          "Asia",
          "Asia",
          "Asia",
          "North America",
          "South America",
          "North America",
          "Asia",
          "Europe",
          "North America",
          "South America",
          "South America",
          "South America",
          "Europe",
          "Asia",
          "South America",
          "Asia",
          "Asia",
          "South America",
          "Europe",
          "South America",
          "North America",
          "South America",
          "South America",
          "Europe",
          "Asia",
          "Asia",
          "Asia",
          "Asia",
          "North America",
          "Asia",
          "Europe",
          "Asia",
          "South America",
          "Europe",
          "North America",
          "South America",
          "North America",
          "Europe",
          "South America",
          "North America",
          "North America",
          "North America",
          "Europe",
          "Europe",
          "Asia",
          "North America",
          "South America",
          "North America",
          "North America",
          "Asia",
          "South America",
          "North America",
          "Asia",
          "South America",
          "South America",
          "South America",
          "Europe",
          "North America",
          "Asia",
          "North America",
          "North America",
          "North America",
          "North America",
          "South America",
          "Asia",
          "South America",
          "North America",
          "Europe",
          "North America",
          "South America",
          "South America",
          "North America",
          "Asia",
          "Europe",
          "Asia",
          "North America",
          "North America",
          "South America",
          "South America",
          "South America",
          "North America",
          "Asia",
          "Asia",
          "Europe",
          "South America",
          "Europe",
          "South America",
          "Asia",
          "South America",
          "North America",
          "North America",
          "Asia",
          "Europe",
          "Asia",
          "South America",
          "South America",
          "North America",
          "North America",
          "North America",
          "Europe",
          "South America",
          "Asia",
          "Asia",
          "North America",
          "Europe",
          "South America",
          "South America",
          "Europe",
          "North America",
          "South America",
          "Europe",
          "Asia",
          "South America",
          "South America",
          "Asia",
          "North America",
          "South America",
          "Asia",
          "South America",
          "Asia",
          "North America",
          "North America",
          "South America",
          "North America",
          "Asia",
          "North America",
          "Europe",
          "North America",
          "South America",
          "Europe",
          "South America",
          "Europe",
          "Asia",
          "Asia",
          "Asia",
          "South America",
          "North America",
          "Europe",
          "South America",
          "Asia",
          "South America",
          "Europe",
          "South America",
          "North America",
          "North America",
          "South America",
          "Asia",
          "North America",
          "North America",
          "North America",
          "North America",
          "North America",
          "South America",
          "South America",
          "North America",
          "Europe",
          "South America",
          "Europe",
          "South America",
          "Europe",
          "South America",
          "Europe",
          "North America",
          "North America",
          "Europe",
          "Europe",
          "Europe",
          "South America",
          "South America",
          "South America",
          "North America",
          "South America",
          "South America",
          "South America",
          "Europe",
          "Europe",
          "Europe",
          "Europe",
          "Asia",
          "Europe",
          "North America",
          "Asia",
          "South America",
          "Europe",
          "Europe",
          "South America",
          "South America",
          "Europe",
          "North America",
          "North America",
          "South America",
          "North America",
          "Europe",
          "North America",
          "South America",
          "Europe",
          "Europe",
          "South America",
          "North America",
          "North America",
          "Europe",
          "North America",
          "Europe",
          "North America",
          "Asia",
          "North America",
          "South America",
          "Europe",
          "Europe",
          "Asia",
          "Europe",
          "South America",
          "Europe",
          "North America",
          "Asia",
          "North America",
          "North America",
          "South America",
          "Asia",
          "Asia",
          "North America",
          "Europe",
          "Europe",
          "South America",
          "Asia",
          "South America",
          "Asia",
          "Asia",
          "Asia",
          "North America",
          "South America",
          "Europe",
          "South America",
          "Europe",
          "Asia",
          "South America",
          "South America",
          "Asia",
          "Europe",
          "Asia",
          "North America",
          "Europe",
          "South America",
          "North America",
          "South America",
          "South America",
          "Asia",
          "South America",
          "Asia",
          "South America",
          "North America",
          "Asia",
          "North America",
          "Europe",
          "Europe",
          "South America",
          "South America",
          "South America",
          "Europe",
          "Asia",
          "North America",
          "North America",
          "South America",
          "South America",
          "South America",
          "North America",
          "South America",
          "Europe",
          "North America",
          "Europe",
          "North America",
          "Asia",
          "South America",
          "Asia",
          "Asia",
          "Asia",
          "Asia",
          "North America",
          "Europe",
          "Asia",
          "North America",
          "Asia",
          "North America",
          "Europe",
          "Asia",
          "Asia",
          "Asia",
          "Europe",
          "North America",
          "North America",
          "Europe",
          "Asia",
          "South America",
          "South America",
          "South America",
          "North America",
          "Asia",
          "Europe",
          "South America",
          "North America",
          "North America",
          "Asia",
          "Europe",
          "Europe",
          "South America",
          "Europe",
          "South America",
          "Asia",
          "South America",
          "Europe",
          "South America",
          "South America",
          "North America",
          "South America",
          "South America",
          "Europe",
          "South America",
          "Asia",
          "North America",
          "Asia",
          "North America",
          "Europe",
          "North America",
          "Asia",
          "North America",
          "Asia",
          "South America",
          "South America",
          "North America",
          "North America",
          "Asia",
          "South America",
          "Europe",
          "South America",
          "Europe",
          "Asia",
          "Europe",
          "Asia",
          "South America",
          "South America",
          "North America",
          "North America",
          "North America",
          "Asia",
          "North America",
          "Asia",
          "South America",
          "North America",
          "South America",
          "North America",
          "South America",
          "North America",
          "Europe",
          "South America",
          "North America",
          "South America",
          "Asia",
          "North America",
          "Asia",
          "North America",
          "South America",
          "North America",
          "Asia",
          "North America",
          "Europe",
          "North America",
          "North America",
          "Asia",
          "North America",
          "Asia",
          "South America",
          "Asia",
          "South America",
          "Europe",
          "Europe",
          "Asia",
          "South America",
          "South America",
          "South America",
          "South America",
          "Asia",
          "Europe",
          "Europe",
          "North America",
          "South America",
          "Europe",
          "Asia",
          "Europe",
          "North America",
          "Asia",
          "South America",
          "South America",
          "Asia",
          "South America",
          "Europe",
          "South America",
          "Asia",
          "Asia",
          "North America",
          "Asia",
          "South America",
          "South America",
          "Europe",
          "South America",
          "Asia",
          "Asia",
          "South America",
          "South America",
          "North America",
          "South America",
          "South America",
          "Europe",
          "Europe",
          "Asia",
          "Europe",
          "Asia",
          "Europe",
          "Asia",
          "North America",
          "South America",
          "North America",
          "Asia",
          "North America",
          "Asia",
          "Asia",
          "North America",
          "North America",
          "Asia",
          "South America",
          "Asia",
          "South America",
          "Asia",
          "North America",
          "North America",
          "Europe",
          "South America",
          "South America",
          "North America",
          "Asia",
          "Europe",
          "South America",
          "South America",
          "Europe",
          "South America",
          "Europe",
          "Asia",
          "Europe",
          "Asia",
          "North America",
          "Europe",
          "Asia",
          "North America",
          "Asia",
          "South America",
          "South America",
          "Asia",
          "Europe",
          "North America",
          "South America",
          "South America",
          "South America",
          "North America",
          "North America",
          "South America",
          "North America",
          "South America",
          "Asia",
          "Asia",
          "South America",
          "South America",
          "North America",
          "North America",
          "Europe",
          "Asia",
          "North America",
          "South America",
          "Europe",
          "Europe",
          "North America",
          "North America",
          "Asia",
          "North America",
          "North America",
          "Europe",
          "Asia",
          "Europe",
          "South America",
          "South America",
          "South America",
          "South America",
          "Europe",
          "North America",
          "South America",
          "North America",
          "North America",
          "North America",
          "North America",
          "Asia",
          "Europe",
          "South America",
          "Asia",
          "Asia",
          "Asia",
          "South America",
          "South America",
          "North America",
          "North America",
          "Asia",
          "South America",
          "Europe",
          "Europe",
          "Europe",
          "North America",
          "Asia",
          "Europe",
          "North America",
          "North America",
          "South America",
          "South America",
          "South America",
          "South America",
          "South America",
          "South America",
          "Europe",
          "Asia",
          "Europe",
          "Europe",
          "Europe",
          "North America",
          "North America",
          "North America",
          "North America",
          "Asia",
          "Asia",
          "Asia",
          "Europe",
          "North America",
          "Europe",
          "Asia",
          "South America",
          "Asia",
          "Asia",
          "Asia",
          "Asia",
          "South America",
          "Europe",
          "South America",
          "Europe",
          "South America",
          "North America",
          "South America",
          "Europe",
          "Europe",
          "North America",
          "South America",
          "South America",
          "South America",
          "South America",
          "South America",
          "Asia",
          "North America",
          "Europe",
          "Europe",
          "North America",
          "South America",
          "South America",
          "South America",
          "North America",
          "South America",
          "South America",
          "Europe",
          "Europe",
          "North America",
          "North America",
          "Europe",
          "Europe",
          "South America",
          "South America",
          "North America",
          "Asia",
          "South America",
          "South America",
          "Asia",
          "South America",
          "South America",
          "South America",
          "Europe",
          "Asia",
          "Asia",
          "Europe",
          "North America",
          "Europe",
          "North America",
          "North America",
          "Asia",
          "South America",
          "Europe",
          "South America",
          "Asia",
          "Europe",
          "North America",
          "Europe",
          "North America",
          "North America",
          "South America",
          "South America",
          "Europe",
          "Europe",
          "Asia",
          "South America",
          "South America",
          "Europe",
          "Asia",
          "Asia",
          "Asia",
          "Europe",
          "North America",
          "Asia",
          "North America",
          "North America",
          "Asia",
          "Europe",
          "Asia",
          "North America",
          "North America",
          "Europe",
          "South America",
          "Europe",
          "Europe",
          "South America",
          "South America",
          "Europe",
          "Asia",
          "Asia",
          "Europe",
          "North America",
          "Asia",
          "South America",
          "Asia",
          "Asia",
          "Asia",
          "North America",
          "South America",
          "North America",
          "Asia",
          "South America",
          "South America",
          "South America",
          "South America",
          "North America",
          "North America",
          "North America",
          "North America",
          "South America",
          "Asia",
          "Asia",
          "Europe",
          "South America",
          "Europe",
          "South America",
          "South America",
          "North America",
          "Europe",
          "Asia",
          "South America",
          "South America",
          "South America",
          "South America",
          "South America",
          "Asia",
          "South America",
          "Europe",
          "South America",
          "North America",
          "Europe",
          "South America",
          "South America",
          "North America",
          "Europe",
          "South America",
          "Asia",
          "Europe",
          "North America",
          "Asia",
          "South America",
          "North America",
          "South America",
          "Europe",
          "Europe",
          "North America",
          "South America",
          "Asia",
          "Asia",
          "North America",
          "Europe",
          "North America",
          "Asia",
          "North America",
          "South America",
          "Asia",
          "South America",
          "Asia",
          "North America",
          "Europe",
          "Asia",
          "Europe",
          "Europe",
          "Europe",
          "Asia",
          "South America",
          "North America",
          "Asia",
          "Europe",
          "Europe",
          "South America",
          "Asia",
          "South America",
          "North America",
          "South America",
          "Europe",
          "North America",
          "Europe",
          "Europe",
          "South America",
          "South America",
          "South America",
          "Asia",
          "Europe",
          "Asia",
          "North America",
          "Europe",
          "South America",
          "North America",
          "Europe",
          "North America",
          "Asia",
          "South America",
          "Asia",
          "South America",
          "Europe",
          "Asia",
          "North America",
          "Europe",
          "Europe",
          "South America",
          "South America",
          "Asia",
          "Europe",
          "North America",
          "Asia",
          "Europe",
          "South America",
          "Europe",
          "North America",
          "North America",
          "Europe",
          "South America",
          "Asia",
          "Europe",
          "South America",
          "South America",
          "South America",
          "South America",
          "South America"
         ],
         "x0": " ",
         "xaxis": "x",
         "y": [
          300.68,
          300.68,
          300.68,
          601.36,
          902.04,
          300.68,
          902.04,
          300.68,
          902.04,
          601.36,
          902.04,
          601.36,
          601.36,
          550.16,
          412.62,
          137.54,
          412.62,
          412.62,
          412.62,
          412.62,
          275.08,
          412.62,
          137.54,
          550.16,
          412.62,
          137.54,
          137.54,
          412.62,
          834.74,
          417.37,
          1252.11,
          1669.48,
          1669.48,
          417.37,
          834.74,
          417.37,
          834.74,
          1252.11,
          1669.48,
          1669.48,
          1669.48,
          417.37,
          1669.48,
          1252.11,
          293.7,
          293.7,
          293.7,
          293.7,
          146.85,
          146.85,
          293.7,
          440.55,
          293.7,
          293.7,
          824.82,
          1099.76,
          274.94,
          824.82,
          824.82,
          274.94,
          1099.76,
          274.94,
          274.94,
          1099.76,
          1011.66,
          337.22,
          1348.88,
          674.44,
          337.22,
          1011.66,
          1011.66,
          337.22,
          337.22,
          1348.88,
          337.22,
          433.64,
          1734.56,
          433.64,
          433.64,
          867.28,
          1734.56,
          1300.92,
          867.28,
          1734.56,
          1300.92,
          1300.92,
          867.28,
          867.28,
          1734.56,
          1734.56,
          867.28,
          1300.92,
          337.91,
          675.82,
          1351.64,
          337.91,
          675.82,
          1013.73,
          1351.64,
          1013.73,
          337.91,
          675.82,
          1351.64,
          1351.64,
          1013.73,
          488.63,
          1954.52,
          977.26,
          488.63,
          977.26,
          1465.89,
          977.26,
          977.26,
          1465.89,
          977.26,
          488.63,
          263.55,
          527.1,
          263.55,
          263.55,
          1054.2,
          527.1,
          1054.2,
          790.65,
          942.32,
          942.32,
          706.74,
          942.32,
          706.74,
          706.74,
          942.32,
          235.58,
          706.74,
          706.74,
          471.16,
          942.32,
          899.79,
          299.93,
          899.79,
          299.93,
          599.86,
          1199.72,
          599.86,
          958.8,
          479.4,
          479.4,
          719.1,
          239.7,
          958.8,
          479.4,
          958.8,
          958.8,
          479.4,
          719.1,
          719.1,
          719.1,
          958.8,
          479.4,
          443.85,
          591.8,
          591.8,
          591.8,
          295.9,
          295.9,
          295.9,
          591.8,
          295.9,
          147.95,
          443.85,
          147.95,
          295.9,
          147.95,
          147.95,
          1122.48,
          1496.64,
          748.32,
          1122.48,
          748.32,
          374.16,
          748.32,
          374.16,
          1496.64,
          748.32,
          1496.64,
          374.16,
          1496.64,
          748.32,
          748.32,
          748.32,
          833.58,
          1111.44,
          1111.44,
          833.58,
          277.86,
          277.86,
          1111.44,
          277.86,
          277.86,
          909.6,
          909.6,
          303.2,
          303.2,
          909.6,
          303.2,
          909.6,
          303.2,
          1212.8,
          909.6,
          606.4,
          1212.8,
          1212.8,
          606.4,
          303.2,
          909.6,
          606.4,
          303.2,
          1212.8,
          1277.36,
          958.02,
          958.02,
          1277.36,
          958.02,
          319.34,
          1277.36,
          638.68,
          319.34,
          354.29,
          708.58,
          1417.16,
          1417.16,
          1717.16,
          858.58,
          1717.16,
          429.29,
          1287.87,
          1717.16,
          1287.87,
          1287.87,
          429.29,
          429.29,
          1493.28,
          1493.28,
          995.52,
          497.76,
          1493.28,
          1493.28,
          1991.04,
          1493.28,
          995.52,
          995.52,
          732.14,
          1098.21,
          1464.28,
          366.07,
          1464.28,
          1098.21,
          366.07,
          1464.28,
          477.99,
          637.32,
          318.66,
          637.32,
          318.66,
          637.32,
          318.66,
          477.99,
          318.66,
          159.33,
          128.5,
          192.75,
          128.5,
          192.75,
          128.5,
          192.75,
          257,
          192.75,
          227.26,
          681.78,
          454.52,
          909.04,
          454.52,
          681.78,
          909.04,
          147.22,
          588.88,
          294.44,
          441.66,
          441.66,
          147.22,
          294.44,
          588.88,
          588.88,
          147.22,
          147.22,
          147.22,
          147.22,
          447.23,
          1341.69,
          894.46,
          1788.92,
          1341.69,
          1341.69,
          447.23,
          447.23,
          447.23,
          447.23,
          1341.69,
          392.8,
          785.6,
          196.4,
          392.8,
          1419.24,
          709.62,
          1419.24,
          709.62,
          1419.24,
          122.36,
          91.77,
          122.36,
          61.18,
          30.59,
          30.59,
          30.59,
          61.18,
          122.36,
          122.36,
          191.38,
          287.07,
          95.69,
          382.76,
          382.76,
          95.69,
          287.07,
          894.68,
          894.68,
          894.68,
          1789.36,
          1342.02,
          1342.02,
          447.34,
          1342.02,
          894.68,
          894.68,
          1342.02,
          128.76,
          257.52,
          64.38,
          257.52,
          128.76,
          193.14,
          193.14,
          130.32,
          195.48,
          195.48,
          65.16,
          130.32,
          260.64,
          195.48,
          65.16,
          195.48,
          260.64,
          342.6,
          342.6,
          114.2,
          342.6,
          342.6,
          114.2,
          456.8,
          456.8,
          114.2,
          342.6,
          114.2,
          335.84,
          335.84,
          335.84,
          1007.52,
          1007.52,
          1343.36,
          671.68,
          1007.52,
          335.84,
          1007.52,
          1007.52,
          165.3,
          330.6,
          661.2,
          165.3,
          330.6,
          330.6,
          165.3,
          165.3,
          330.05,
          1320.2,
          330.05,
          990.15,
          1320.2,
          330.05,
          1320.2,
          990.15,
          330.05,
          1879.08,
          469.77,
          939.54,
          1879.08,
          939.54,
          1879.08,
          939.54,
          469.77,
          1879.08,
          939.54,
          242.64,
          121.32,
          363.96,
          121.32,
          485.28,
          485.28,
          242.64,
          485.28,
          485.28,
          363.96,
          363.96,
          242.64,
          363.96,
          1822.88,
          911.44,
          1367.16,
          911.44,
          1367.16,
          1367.16,
          455.72,
          455.72,
          1367.16,
          1367.16,
          911.44,
          911.44,
          455.72,
          222.95,
          668.85,
          891.8,
          891.8,
          668.85,
          668.85,
          445.9,
          614.94,
          614.94,
          307.47,
          614.94,
          614.94,
          307.47,
          922.41,
          614.94,
          307.47,
          1229.88,
          1229.88,
          922.41,
          922.41,
          922.41,
          307.47,
          134.36,
          33.59,
          33.59,
          100.77,
          100.77,
          100.77,
          100.77,
          134.36,
          100.77,
          1015.98,
          338.66,
          1354.64,
          677.32,
          677.32,
          437.65,
          875.3,
          437.65,
          1312.95,
          1750.6,
          437.65,
          875.3,
          437.65,
          1312.95,
          1312.95,
          1750.6,
          875.3,
          437.65,
          1665.6,
          1249.2,
          1665.6,
          1665.6,
          1249.2,
          1665.6,
          416.4,
          832.8,
          1249.2,
          416.4,
          832.8,
          1249.2,
          416.4,
          1665.6,
          1665.6,
          808.8,
          808.8,
          1617.6,
          404.4,
          1617.6,
          1617.6,
          808.8,
          404.4,
          808.8,
          1213.2,
          1617.6,
          434.1,
          434.1,
          868.2,
          868.2,
          651.15,
          217.05,
          868.2,
          217.05,
          217.05,
          372.55,
          1490.2,
          745.1,
          1117.65,
          372.55,
          372.55,
          745.1,
          372.55,
          372.55,
          745.1,
          1117.65,
          1117.65,
          1050.39,
          700.26,
          1050.39,
          1050.39,
          700.26,
          350.13,
          700.26,
          1050.39,
          350.13,
          350.13,
          700.26,
          430.59,
          1291.77,
          1722.36,
          1291.77,
          1291.77,
          1722.36,
          1291.77,
          430.59,
          1291.77,
          1722.36,
          861.18,
          430.59,
          128.53,
          385.59,
          128.53,
          514.12,
          257.06,
          257.06,
          128.53,
          385.59,
          514.12,
          385.59,
          176.48,
          132.36,
          176.48,
          44.12,
          88.24,
          88.24,
          176.48,
          132.36,
          44.12,
          132.36,
          88.24,
          88.24,
          505.36,
          252.68,
          126.34,
          505.36,
          252.68,
          252.68,
          441.82,
          883.64,
          662.73,
          883.64,
          662.73,
          883.64,
          662.73,
          770.74,
          385.37,
          770.74,
          1156.11,
          1541.48,
          1541.48,
          1541.48,
          1541.48,
          1156.11,
          1541.48,
          1541.48,
          382.08,
          254.72,
          382.08,
          509.44,
          127.36,
          509.44,
          254.72,
          127.36,
          1762.8,
          881.4,
          440.7,
          1762.8,
          1322.1,
          1762.8,
          1322.1,
          1762.8,
          1762.8,
          853.86,
          1138.48,
          569.24,
          853.86,
          853.86,
          284.62,
          569.24,
          284.62,
          1138.48,
          284.62,
          853.86,
          853.86,
          1044.8,
          1044.8,
          261.2,
          783.6,
          522.4,
          1044.8,
          1044.8,
          522.4,
          261.2,
          1044.8,
          1368.84,
          456.28,
          456.28,
          1825.12,
          912.56,
          1825.12,
          1825.12,
          912.56,
          1825.12,
          456.28,
          1368.84,
          1680.6,
          840.3,
          840.3,
          840.3,
          1680.6,
          420.15,
          1260.45,
          840.3,
          476.79,
          158.93,
          158.93,
          635.72,
          158.93,
          158.93,
          635.72,
          476.79,
          627.84,
          470.88,
          470.88,
          470.88,
          156.96,
          627.84,
          156.96,
          470.88,
          156.96,
          627.84,
          313.92,
          627.84,
          470.88,
          627.84,
          156.96,
          313.92,
          1357.26,
          452.42,
          452.42,
          1357.26,
          452.42,
          1809.68,
          452.42,
          1809.68,
          1357.26,
          904.84,
          315.24,
          630.48,
          630.48,
          472.86,
          315.24,
          157.62,
          630.48,
          315.24,
          157.62,
          315.24,
          315.24,
          157.62,
          630.48,
          916.24,
          916.24,
          916.24,
          458.12,
          916.24,
          687.18,
          687.18,
          458.12,
          916.24,
          458.12,
          916.24,
          66.32,
          66.32,
          198.96,
          198.96,
          132.64,
          66.32,
          265.28,
          66.32,
          265.28,
          265.28,
          198.96,
          265.28,
          132.64,
          427.61,
          855.22,
          855.22,
          855.22,
          1282.83,
          855.22,
          1282.83,
          1710.44,
          855.22,
          427.61,
          1282.83,
          53.98,
          53.98,
          80.97,
          80.97,
          107.96,
          26.99,
          53.98,
          107.96,
          53.98,
          26.99,
          64.32,
          16.08,
          64.32,
          64.32,
          48.24,
          16.08,
          32.16,
          32.16,
          389.2,
          1167.6,
          1556.8,
          1556.8,
          1556.8,
          389.2,
          1167.6,
          778.4,
          1556.8,
          1249.05,
          832.7,
          1249.05,
          1249.05,
          1249.05,
          1665.4,
          416.35,
          1665.4,
          1214,
          303.5,
          607,
          1214,
          607,
          607,
          1214,
          303.5,
          303.5,
          910.5,
          229.2,
          229.2,
          229.2,
          171.9,
          114.6,
          114.6,
          171.9,
          114.6,
          114.6,
          57.3,
          171.9,
          171.9,
          229.2,
          171.9,
          171.9,
          171.9,
          41.18,
          123.54,
          164.72,
          82.36,
          82.36,
          164.72,
          164.72,
          41.18,
          123.54,
          82.36,
          612.76,
          459.57,
          306.38,
          612.76,
          153.19,
          612.76,
          612.76,
          306.38,
          612.76,
          306.38,
          306.38,
          306.38,
          306.38,
          201.62,
          403.24,
          201.62,
          201.62,
          100.81,
          201.62,
          100.81,
          100.81,
          201.62,
          302.43,
          100.81,
          302.43,
          507.9,
          338.6,
          677.2,
          338.6,
          169.3,
          338.6,
          338.6,
          338.6,
          1062.04,
          531.02,
          1062.04,
          531.02,
          265.51,
          1062.04,
          105.04,
          78.78,
          105.04,
          78.78,
          167.97,
          55.99,
          55.99,
          167.97,
          167.97,
          111.98,
          111.98,
          223.96,
          963.56,
          963.56,
          481.78,
          963.56,
          963.56,
          963.56,
          1445.34,
          1927.12,
          1198.02,
          798.68,
          1198.02,
          1198.02,
          798.68,
          798.68,
          1038.9,
          1038.9,
          1385.2,
          692.6,
          1038.9,
          1385.2,
          1385.2,
          692.6,
          1839.44,
          459.86,
          919.72,
          1379.58,
          459.86,
          919.72,
          919.72,
          1747.56,
          436.89,
          436.89,
          1310.67,
          1747.56,
          1747.56,
          1310.67,
          1818.12,
          454.53,
          454.53,
          909.06,
          909.06,
          1363.59,
          454.53,
          1363.59,
          1818.12,
          580.34,
          1160.68,
          580.34,
          290.17,
          290.17,
          580.34,
          1160.68,
          290.17,
          1160.68,
          580.34,
          870.51,
          580.34,
          792.68,
          1189.02,
          1585.36,
          1189.02,
          1585.36,
          1585.36,
          1585.36,
          1585.36,
          1585.36,
          396.34,
          1585.36,
          396.34,
          194.76,
          97.38,
          48.69,
          146.07,
          48.69,
          194.76,
          159.6,
          638.4,
          319.2,
          159.6,
          478.8,
          159.6,
          319.2,
          159.6,
          1287.93,
          1717.24,
          1287.93,
          858.62,
          1287.93,
          1287.93,
          1287.93,
          1287.93,
          295.58,
          886.74,
          295.58,
          886.74,
          886.74,
          295.58,
          1182.32,
          295.58,
          1182.32,
          886.74,
          1182.32,
          1182.32,
          886.74,
          379.44,
          1517.76,
          1517.76,
          1138.32,
          1138.32,
          758.88,
          1138.32,
          379.44,
          650.02,
          975.03,
          650.02,
          325.01,
          1300.04,
          325.01,
          650.02,
          622.6,
          155.65,
          622.6,
          311.3,
          155.65,
          155.65,
          304.94,
          1219.76,
          609.88,
          304.94,
          609.88,
          1219.76,
          304.94,
          609.88,
          75.28,
          75.28,
          56.46,
          37.64
         ],
         "y0": " ",
         "yaxis": "y"
        }
       ],
       "layout": {
        "boxmode": "group",
        "legend": {
         "tracegroupgap": 0
        },
        "template": {
         "data": {
          "bar": [
           {
            "error_x": {
             "color": "#2a3f5f"
            },
            "error_y": {
             "color": "#2a3f5f"
            },
            "marker": {
             "line": {
              "color": "#E5ECF6",
              "width": 0.5
             },
             "pattern": {
              "fillmode": "overlay",
              "size": 10,
              "solidity": 0.2
             }
            },
            "type": "bar"
           }
          ],
          "barpolar": [
           {
            "marker": {
             "line": {
              "color": "#E5ECF6",
              "width": 0.5
             },
             "pattern": {
              "fillmode": "overlay",
              "size": 10,
              "solidity": 0.2
             }
            },
            "type": "barpolar"
           }
          ],
          "carpet": [
           {
            "aaxis": {
             "endlinecolor": "#2a3f5f",
             "gridcolor": "white",
             "linecolor": "white",
             "minorgridcolor": "white",
             "startlinecolor": "#2a3f5f"
            },
            "baxis": {
             "endlinecolor": "#2a3f5f",
             "gridcolor": "white",
             "linecolor": "white",
             "minorgridcolor": "white",
             "startlinecolor": "#2a3f5f"
            },
            "type": "carpet"
           }
          ],
          "choropleth": [
           {
            "colorbar": {
             "outlinewidth": 0,
             "ticks": ""
            },
            "type": "choropleth"
           }
          ],
          "contour": [
           {
            "colorbar": {
             "outlinewidth": 0,
             "ticks": ""
            },
            "colorscale": [
             [
              0,
              "#0d0887"
             ],
             [
              0.1111111111111111,
              "#46039f"
             ],
             [
              0.2222222222222222,
              "#7201a8"
             ],
             [
              0.3333333333333333,
              "#9c179e"
             ],
             [
              0.4444444444444444,
              "#bd3786"
             ],
             [
              0.5555555555555556,
              "#d8576b"
             ],
             [
              0.6666666666666666,
              "#ed7953"
             ],
             [
              0.7777777777777778,
              "#fb9f3a"
             ],
             [
              0.8888888888888888,
              "#fdca26"
             ],
             [
              1,
              "#f0f921"
             ]
            ],
            "type": "contour"
           }
          ],
          "contourcarpet": [
           {
            "colorbar": {
             "outlinewidth": 0,
             "ticks": ""
            },
            "type": "contourcarpet"
           }
          ],
          "heatmap": [
           {
            "colorbar": {
             "outlinewidth": 0,
             "ticks": ""
            },
            "colorscale": [
             [
              0,
              "#0d0887"
             ],
             [
              0.1111111111111111,
              "#46039f"
             ],
             [
              0.2222222222222222,
              "#7201a8"
             ],
             [
              0.3333333333333333,
              "#9c179e"
             ],
             [
              0.4444444444444444,
              "#bd3786"
             ],
             [
              0.5555555555555556,
              "#d8576b"
             ],
             [
              0.6666666666666666,
              "#ed7953"
             ],
             [
              0.7777777777777778,
              "#fb9f3a"
             ],
             [
              0.8888888888888888,
              "#fdca26"
             ],
             [
              1,
              "#f0f921"
             ]
            ],
            "type": "heatmap"
           }
          ],
          "heatmapgl": [
           {
            "colorbar": {
             "outlinewidth": 0,
             "ticks": ""
            },
            "colorscale": [
             [
              0,
              "#0d0887"
             ],
             [
              0.1111111111111111,
              "#46039f"
             ],
             [
              0.2222222222222222,
              "#7201a8"
             ],
             [
              0.3333333333333333,
              "#9c179e"
             ],
             [
              0.4444444444444444,
              "#bd3786"
             ],
             [
              0.5555555555555556,
              "#d8576b"
             ],
             [
              0.6666666666666666,
              "#ed7953"
             ],
             [
              0.7777777777777778,
              "#fb9f3a"
             ],
             [
              0.8888888888888888,
              "#fdca26"
             ],
             [
              1,
              "#f0f921"
             ]
            ],
            "type": "heatmapgl"
           }
          ],
          "histogram": [
           {
            "marker": {
             "pattern": {
              "fillmode": "overlay",
              "size": 10,
              "solidity": 0.2
             }
            },
            "type": "histogram"
           }
          ],
          "histogram2d": [
           {
            "colorbar": {
             "outlinewidth": 0,
             "ticks": ""
            },
            "colorscale": [
             [
              0,
              "#0d0887"
             ],
             [
              0.1111111111111111,
              "#46039f"
             ],
             [
              0.2222222222222222,
              "#7201a8"
             ],
             [
              0.3333333333333333,
              "#9c179e"
             ],
             [
              0.4444444444444444,
              "#bd3786"
             ],
             [
              0.5555555555555556,
              "#d8576b"
             ],
             [
              0.6666666666666666,
              "#ed7953"
             ],
             [
              0.7777777777777778,
              "#fb9f3a"
             ],
             [
              0.8888888888888888,
              "#fdca26"
             ],
             [
              1,
              "#f0f921"
             ]
            ],
            "type": "histogram2d"
           }
          ],
          "histogram2dcontour": [
           {
            "colorbar": {
             "outlinewidth": 0,
             "ticks": ""
            },
            "colorscale": [
             [
              0,
              "#0d0887"
             ],
             [
              0.1111111111111111,
              "#46039f"
             ],
             [
              0.2222222222222222,
              "#7201a8"
             ],
             [
              0.3333333333333333,
              "#9c179e"
             ],
             [
              0.4444444444444444,
              "#bd3786"
             ],
             [
              0.5555555555555556,
              "#d8576b"
             ],
             [
              0.6666666666666666,
              "#ed7953"
             ],
             [
              0.7777777777777778,
              "#fb9f3a"
             ],
             [
              0.8888888888888888,
              "#fdca26"
             ],
             [
              1,
              "#f0f921"
             ]
            ],
            "type": "histogram2dcontour"
           }
          ],
          "mesh3d": [
           {
            "colorbar": {
             "outlinewidth": 0,
             "ticks": ""
            },
            "type": "mesh3d"
           }
          ],
          "parcoords": [
           {
            "line": {
             "colorbar": {
              "outlinewidth": 0,
              "ticks": ""
             }
            },
            "type": "parcoords"
           }
          ],
          "pie": [
           {
            "automargin": true,
            "type": "pie"
           }
          ],
          "scatter": [
           {
            "marker": {
             "colorbar": {
              "outlinewidth": 0,
              "ticks": ""
             }
            },
            "type": "scatter"
           }
          ],
          "scatter3d": [
           {
            "line": {
             "colorbar": {
              "outlinewidth": 0,
              "ticks": ""
             }
            },
            "marker": {
             "colorbar": {
              "outlinewidth": 0,
              "ticks": ""
             }
            },
            "type": "scatter3d"
           }
          ],
          "scattercarpet": [
           {
            "marker": {
             "colorbar": {
              "outlinewidth": 0,
              "ticks": ""
             }
            },
            "type": "scattercarpet"
           }
          ],
          "scattergeo": [
           {
            "marker": {
             "colorbar": {
              "outlinewidth": 0,
              "ticks": ""
             }
            },
            "type": "scattergeo"
           }
          ],
          "scattergl": [
           {
            "marker": {
             "colorbar": {
              "outlinewidth": 0,
              "ticks": ""
             }
            },
            "type": "scattergl"
           }
          ],
          "scattermapbox": [
           {
            "marker": {
             "colorbar": {
              "outlinewidth": 0,
              "ticks": ""
             }
            },
            "type": "scattermapbox"
           }
          ],
          "scatterpolar": [
           {
            "marker": {
             "colorbar": {
              "outlinewidth": 0,
              "ticks": ""
             }
            },
            "type": "scatterpolar"
           }
          ],
          "scatterpolargl": [
           {
            "marker": {
             "colorbar": {
              "outlinewidth": 0,
              "ticks": ""
             }
            },
            "type": "scatterpolargl"
           }
          ],
          "scatterternary": [
           {
            "marker": {
             "colorbar": {
              "outlinewidth": 0,
              "ticks": ""
             }
            },
            "type": "scatterternary"
           }
          ],
          "surface": [
           {
            "colorbar": {
             "outlinewidth": 0,
             "ticks": ""
            },
            "colorscale": [
             [
              0,
              "#0d0887"
             ],
             [
              0.1111111111111111,
              "#46039f"
             ],
             [
              0.2222222222222222,
              "#7201a8"
             ],
             [
              0.3333333333333333,
              "#9c179e"
             ],
             [
              0.4444444444444444,
              "#bd3786"
             ],
             [
              0.5555555555555556,
              "#d8576b"
             ],
             [
              0.6666666666666666,
              "#ed7953"
             ],
             [
              0.7777777777777778,
              "#fb9f3a"
             ],
             [
              0.8888888888888888,
              "#fdca26"
             ],
             [
              1,
              "#f0f921"
             ]
            ],
            "type": "surface"
           }
          ],
          "table": [
           {
            "cells": {
             "fill": {
              "color": "#EBF0F8"
             },
             "line": {
              "color": "white"
             }
            },
            "header": {
             "fill": {
              "color": "#C8D4E3"
             },
             "line": {
              "color": "white"
             }
            },
            "type": "table"
           }
          ]
         },
         "layout": {
          "annotationdefaults": {
           "arrowcolor": "#2a3f5f",
           "arrowhead": 0,
           "arrowwidth": 1
          },
          "autotypenumbers": "strict",
          "coloraxis": {
           "colorbar": {
            "outlinewidth": 0,
            "ticks": ""
           }
          },
          "colorscale": {
           "diverging": [
            [
             0,
             "#8e0152"
            ],
            [
             0.1,
             "#c51b7d"
            ],
            [
             0.2,
             "#de77ae"
            ],
            [
             0.3,
             "#f1b6da"
            ],
            [
             0.4,
             "#fde0ef"
            ],
            [
             0.5,
             "#f7f7f7"
            ],
            [
             0.6,
             "#e6f5d0"
            ],
            [
             0.7,
             "#b8e186"
            ],
            [
             0.8,
             "#7fbc41"
            ],
            [
             0.9,
             "#4d9221"
            ],
            [
             1,
             "#276419"
            ]
           ],
           "sequential": [
            [
             0,
             "#0d0887"
            ],
            [
             0.1111111111111111,
             "#46039f"
            ],
            [
             0.2222222222222222,
             "#7201a8"
            ],
            [
             0.3333333333333333,
             "#9c179e"
            ],
            [
             0.4444444444444444,
             "#bd3786"
            ],
            [
             0.5555555555555556,
             "#d8576b"
            ],
            [
             0.6666666666666666,
             "#ed7953"
            ],
            [
             0.7777777777777778,
             "#fb9f3a"
            ],
            [
             0.8888888888888888,
             "#fdca26"
            ],
            [
             1,
             "#f0f921"
            ]
           ],
           "sequentialminus": [
            [
             0,
             "#0d0887"
            ],
            [
             0.1111111111111111,
             "#46039f"
            ],
            [
             0.2222222222222222,
             "#7201a8"
            ],
            [
             0.3333333333333333,
             "#9c179e"
            ],
            [
             0.4444444444444444,
             "#bd3786"
            ],
            [
             0.5555555555555556,
             "#d8576b"
            ],
            [
             0.6666666666666666,
             "#ed7953"
            ],
            [
             0.7777777777777778,
             "#fb9f3a"
            ],
            [
             0.8888888888888888,
             "#fdca26"
            ],
            [
             1,
             "#f0f921"
            ]
           ]
          },
          "colorway": [
           "#636efa",
           "#EF553B",
           "#00cc96",
           "#ab63fa",
           "#FFA15A",
           "#19d3f3",
           "#FF6692",
           "#B6E880",
           "#FF97FF",
           "#FECB52"
          ],
          "font": {
           "color": "#2a3f5f"
          },
          "geo": {
           "bgcolor": "white",
           "lakecolor": "white",
           "landcolor": "#E5ECF6",
           "showlakes": true,
           "showland": true,
           "subunitcolor": "white"
          },
          "hoverlabel": {
           "align": "left"
          },
          "hovermode": "closest",
          "mapbox": {
           "style": "light"
          },
          "paper_bgcolor": "white",
          "plot_bgcolor": "#E5ECF6",
          "polar": {
           "angularaxis": {
            "gridcolor": "white",
            "linecolor": "white",
            "ticks": ""
           },
           "bgcolor": "#E5ECF6",
           "radialaxis": {
            "gridcolor": "white",
            "linecolor": "white",
            "ticks": ""
           }
          },
          "scene": {
           "xaxis": {
            "backgroundcolor": "#E5ECF6",
            "gridcolor": "white",
            "gridwidth": 2,
            "linecolor": "white",
            "showbackground": true,
            "ticks": "",
            "zerolinecolor": "white"
           },
           "yaxis": {
            "backgroundcolor": "#E5ECF6",
            "gridcolor": "white",
            "gridwidth": 2,
            "linecolor": "white",
            "showbackground": true,
            "ticks": "",
            "zerolinecolor": "white"
           },
           "zaxis": {
            "backgroundcolor": "#E5ECF6",
            "gridcolor": "white",
            "gridwidth": 2,
            "linecolor": "white",
            "showbackground": true,
            "ticks": "",
            "zerolinecolor": "white"
           }
          },
          "shapedefaults": {
           "line": {
            "color": "#2a3f5f"
           }
          },
          "ternary": {
           "aaxis": {
            "gridcolor": "white",
            "linecolor": "white",
            "ticks": ""
           },
           "baxis": {
            "gridcolor": "white",
            "linecolor": "white",
            "ticks": ""
           },
           "bgcolor": "#E5ECF6",
           "caxis": {
            "gridcolor": "white",
            "linecolor": "white",
            "ticks": ""
           }
          },
          "title": {
           "x": 0.05
          },
          "xaxis": {
           "automargin": true,
           "gridcolor": "white",
           "linecolor": "white",
           "ticks": "",
           "title": {
            "standoff": 15
           },
           "zerolinecolor": "white",
           "zerolinewidth": 2
          },
          "yaxis": {
           "automargin": true,
           "gridcolor": "white",
           "linecolor": "white",
           "ticks": "",
           "title": {
            "standoff": 15
           },
           "zerolinecolor": "white",
           "zerolinewidth": 2
          }
         }
        },
        "title": {
         "text": "Total Transaction Value by Region"
        },
        "xaxis": {
         "anchor": "y",
         "domain": [
          0,
          1
         ],
         "title": {
          "text": "Region"
         }
        },
        "yaxis": {
         "anchor": "x",
         "domain": [
          0,
          1
         ],
         "title": {
          "text": "Transaction Value"
         }
        }
       }
      },
      "text/html": [
       "<div>                            <div id=\"ae464190-8d7b-4702-87ee-8c1f1fcfae8b\" class=\"plotly-graph-div\" style=\"height:525px; width:100%;\"></div>            <script type=\"text/javascript\">                require([\"plotly\"], function(Plotly) {                    window.PLOTLYENV=window.PLOTLYENV || {};                                    if (document.getElementById(\"ae464190-8d7b-4702-87ee-8c1f1fcfae8b\")) {                    Plotly.newPlot(                        \"ae464190-8d7b-4702-87ee-8c1f1fcfae8b\",                        [{\"alignmentgroup\":\"True\",\"hovertemplate\":\"Region=%{x}<br>Transaction Value=%{y}<extra></extra>\",\"legendgroup\":\"\",\"marker\":{\"color\":\"#636efa\"},\"name\":\"\",\"notched\":false,\"offsetgroup\":\"\",\"orientation\":\"v\",\"showlegend\":false,\"x\":[\"Europe\",\"Asia\",\"Europe\",\"South America\",\"Europe\",\"South America\",\"South America\",\"North America\",\"North America\",\"South America\",\"Europe\",\"Europe\",\"South America\",\"Europe\",\"South America\",\"North America\",\"North America\",\"North America\",\"Europe\",\"North America\",\"Europe\",\"South America\",\"South America\",\"North America\",\"South America\",\"Asia\",\"Asia\",\"Europe\",\"Europe\",\"North America\",\"Asia\",\"South America\",\"Asia\",\"Asia\",\"Europe\",\"North America\",\"Asia\",\"South America\",\"South America\",\"South America\",\"Europe\",\"Europe\",\"Europe\",\"South America\",\"Europe\",\"North America\",\"South America\",\"North America\",\"Europe\",\"Europe\",\"Asia\",\"Europe\",\"Asia\",\"Asia\",\"Asia\",\"South America\",\"North America\",\"Europe\",\"South America\",\"North America\",\"Europe\",\"North America\",\"North America\",\"South America\",\"Asia\",\"Asia\",\"Europe\",\"South America\",\"Europe\",\"South America\",\"Europe\",\"North America\",\"North America\",\"North America\",\"Asia\",\"Asia\",\"South America\",\"North America\",\"South America\",\"South America\",\"North America\",\"South America\",\"Europe\",\"Europe\",\"South America\",\"South America\",\"Asia\",\"South America\",\"South America\",\"Europe\",\"North America\",\"North America\",\"Europe\",\"South America\",\"Europe\",\"North America\",\"Asia\",\"South America\",\"Asia\",\"Europe\",\"Europe\",\"North America\",\"Europe\",\"North America\",\"North America\",\"Europe\",\"North America\",\"Asia\",\"North America\",\"Europe\",\"South America\",\"South America\",\"South America\",\"Europe\",\"North America\",\"North America\",\"Europe\",\"North America\",\"South America\",\"North America\",\"Europe\",\"South America\",\"Europe\",\"North America\",\"Europe\",\"South America\",\"Asia\",\"Asia\",\"South America\",\"North America\",\"South America\",\"South America\",\"South America\",\"North America\",\"Asia\",\"Asia\",\"Europe\",\"Europe\",\"Europe\",\"South America\",\"South America\",\"Asia\",\"Asia\",\"South America\",\"South America\",\"South America\",\"Asia\",\"Asia\",\"Asia\",\"Asia\",\"North America\",\"South America\",\"North America\",\"South America\",\"North America\",\"South America\",\"Europe\",\"Asia\",\"South America\",\"Europe\",\"Europe\",\"South America\",\"Europe\",\"North America\",\"Europe\",\"Europe\",\"North America\",\"Asia\",\"North America\",\"Europe\",\"Europe\",\"Asia\",\"Asia\",\"South America\",\"South America\",\"South America\",\"Asia\",\"North America\",\"Europe\",\"North America\",\"Asia\",\"Europe\",\"North America\",\"South America\",\"South America\",\"Asia\",\"South America\",\"Asia\",\"Europe\",\"South America\",\"North America\",\"Asia\",\"Europe\",\"North America\",\"South America\",\"Asia\",\"Europe\",\"South America\",\"South America\",\"South America\",\"Europe\",\"Asia\",\"North America\",\"North America\",\"North America\",\"Europe\",\"Asia\",\"Europe\",\"Asia\",\"Asia\",\"South America\",\"North America\",\"North America\",\"Europe\",\"Europe\",\"Europe\",\"South America\",\"Europe\",\"Europe\",\"South America\",\"Europe\",\"North America\",\"South America\",\"Europe\",\"Europe\",\"South America\",\"Europe\",\"North America\",\"Europe\",\"North America\",\"South America\",\"South America\",\"South America\",\"South America\",\"Asia\",\"Asia\",\"Asia\",\"Asia\",\"Asia\",\"North America\",\"South America\",\"North America\",\"Asia\",\"Europe\",\"North America\",\"South America\",\"South America\",\"South America\",\"Europe\",\"Asia\",\"South America\",\"Asia\",\"Asia\",\"South America\",\"Europe\",\"South America\",\"North America\",\"South America\",\"South America\",\"Europe\",\"Asia\",\"Asia\",\"Asia\",\"Asia\",\"North America\",\"Asia\",\"Europe\",\"Asia\",\"South America\",\"Europe\",\"North America\",\"South America\",\"North America\",\"Europe\",\"South America\",\"North America\",\"North America\",\"North America\",\"Europe\",\"Europe\",\"Asia\",\"North America\",\"South America\",\"North America\",\"North America\",\"Asia\",\"South America\",\"North America\",\"Asia\",\"South America\",\"South America\",\"South America\",\"Europe\",\"North America\",\"Asia\",\"North America\",\"North America\",\"North America\",\"North America\",\"South America\",\"Asia\",\"South America\",\"North America\",\"Europe\",\"North America\",\"South America\",\"South America\",\"North America\",\"Asia\",\"Europe\",\"Asia\",\"North America\",\"North America\",\"South America\",\"South America\",\"South America\",\"North America\",\"Asia\",\"Asia\",\"Europe\",\"South America\",\"Europe\",\"South America\",\"Asia\",\"South America\",\"North America\",\"North America\",\"Asia\",\"Europe\",\"Asia\",\"South America\",\"South America\",\"North America\",\"North America\",\"North America\",\"Europe\",\"South America\",\"Asia\",\"Asia\",\"North America\",\"Europe\",\"South America\",\"South America\",\"Europe\",\"North America\",\"South America\",\"Europe\",\"Asia\",\"South America\",\"South America\",\"Asia\",\"North America\",\"South America\",\"Asia\",\"South America\",\"Asia\",\"North America\",\"North America\",\"South America\",\"North America\",\"Asia\",\"North America\",\"Europe\",\"North America\",\"South America\",\"Europe\",\"South America\",\"Europe\",\"Asia\",\"Asia\",\"Asia\",\"South America\",\"North America\",\"Europe\",\"South America\",\"Asia\",\"South America\",\"Europe\",\"South America\",\"North America\",\"North America\",\"South America\",\"Asia\",\"North America\",\"North America\",\"North America\",\"North America\",\"North America\",\"South America\",\"South America\",\"North America\",\"Europe\",\"South America\",\"Europe\",\"South America\",\"Europe\",\"South America\",\"Europe\",\"North America\",\"North America\",\"Europe\",\"Europe\",\"Europe\",\"South America\",\"South America\",\"South America\",\"North America\",\"South America\",\"South America\",\"South America\",\"Europe\",\"Europe\",\"Europe\",\"Europe\",\"Asia\",\"Europe\",\"North America\",\"Asia\",\"South America\",\"Europe\",\"Europe\",\"South America\",\"South America\",\"Europe\",\"North America\",\"North America\",\"South America\",\"North America\",\"Europe\",\"North America\",\"South America\",\"Europe\",\"Europe\",\"South America\",\"North America\",\"North America\",\"Europe\",\"North America\",\"Europe\",\"North America\",\"Asia\",\"North America\",\"South America\",\"Europe\",\"Europe\",\"Asia\",\"Europe\",\"South America\",\"Europe\",\"North America\",\"Asia\",\"North America\",\"North America\",\"South America\",\"Asia\",\"Asia\",\"North America\",\"Europe\",\"Europe\",\"South America\",\"Asia\",\"South America\",\"Asia\",\"Asia\",\"Asia\",\"North America\",\"South America\",\"Europe\",\"South America\",\"Europe\",\"Asia\",\"South America\",\"South America\",\"Asia\",\"Europe\",\"Asia\",\"North America\",\"Europe\",\"South America\",\"North America\",\"South America\",\"South America\",\"Asia\",\"South America\",\"Asia\",\"South America\",\"North America\",\"Asia\",\"North America\",\"Europe\",\"Europe\",\"South America\",\"South America\",\"South America\",\"Europe\",\"Asia\",\"North America\",\"North America\",\"South America\",\"South America\",\"South America\",\"North America\",\"South America\",\"Europe\",\"North America\",\"Europe\",\"North America\",\"Asia\",\"South America\",\"Asia\",\"Asia\",\"Asia\",\"Asia\",\"North America\",\"Europe\",\"Asia\",\"North America\",\"Asia\",\"North America\",\"Europe\",\"Asia\",\"Asia\",\"Asia\",\"Europe\",\"North America\",\"North America\",\"Europe\",\"Asia\",\"South America\",\"South America\",\"South America\",\"North America\",\"Asia\",\"Europe\",\"South America\",\"North America\",\"North America\",\"Asia\",\"Europe\",\"Europe\",\"South America\",\"Europe\",\"South America\",\"Asia\",\"South America\",\"Europe\",\"South America\",\"South America\",\"North America\",\"South America\",\"South America\",\"Europe\",\"South America\",\"Asia\",\"North America\",\"Asia\",\"North America\",\"Europe\",\"North America\",\"Asia\",\"North America\",\"Asia\",\"South America\",\"South America\",\"North America\",\"North America\",\"Asia\",\"South America\",\"Europe\",\"South America\",\"Europe\",\"Asia\",\"Europe\",\"Asia\",\"South America\",\"South America\",\"North America\",\"North America\",\"North America\",\"Asia\",\"North America\",\"Asia\",\"South America\",\"North America\",\"South America\",\"North America\",\"South America\",\"North America\",\"Europe\",\"South America\",\"North America\",\"South America\",\"Asia\",\"North America\",\"Asia\",\"North America\",\"South America\",\"North America\",\"Asia\",\"North America\",\"Europe\",\"North America\",\"North America\",\"Asia\",\"North America\",\"Asia\",\"South America\",\"Asia\",\"South America\",\"Europe\",\"Europe\",\"Asia\",\"South America\",\"South America\",\"South America\",\"South America\",\"Asia\",\"Europe\",\"Europe\",\"North America\",\"South America\",\"Europe\",\"Asia\",\"Europe\",\"North America\",\"Asia\",\"South America\",\"South America\",\"Asia\",\"South America\",\"Europe\",\"South America\",\"Asia\",\"Asia\",\"North America\",\"Asia\",\"South America\",\"South America\",\"Europe\",\"South America\",\"Asia\",\"Asia\",\"South America\",\"South America\",\"North America\",\"South America\",\"South America\",\"Europe\",\"Europe\",\"Asia\",\"Europe\",\"Asia\",\"Europe\",\"Asia\",\"North America\",\"South America\",\"North America\",\"Asia\",\"North America\",\"Asia\",\"Asia\",\"North America\",\"North America\",\"Asia\",\"South America\",\"Asia\",\"South America\",\"Asia\",\"North America\",\"North America\",\"Europe\",\"South America\",\"South America\",\"North America\",\"Asia\",\"Europe\",\"South America\",\"South America\",\"Europe\",\"South America\",\"Europe\",\"Asia\",\"Europe\",\"Asia\",\"North America\",\"Europe\",\"Asia\",\"North America\",\"Asia\",\"South America\",\"South America\",\"Asia\",\"Europe\",\"North America\",\"South America\",\"South America\",\"South America\",\"North America\",\"North America\",\"South America\",\"North America\",\"South America\",\"Asia\",\"Asia\",\"South America\",\"South America\",\"North America\",\"North America\",\"Europe\",\"Asia\",\"North America\",\"South America\",\"Europe\",\"Europe\",\"North America\",\"North America\",\"Asia\",\"North America\",\"North America\",\"Europe\",\"Asia\",\"Europe\",\"South America\",\"South America\",\"South America\",\"South America\",\"Europe\",\"North America\",\"South America\",\"North America\",\"North America\",\"North America\",\"North America\",\"Asia\",\"Europe\",\"South America\",\"Asia\",\"Asia\",\"Asia\",\"South America\",\"South America\",\"North America\",\"North America\",\"Asia\",\"South America\",\"Europe\",\"Europe\",\"Europe\",\"North America\",\"Asia\",\"Europe\",\"North America\",\"North America\",\"South America\",\"South America\",\"South America\",\"South America\",\"South America\",\"South America\",\"Europe\",\"Asia\",\"Europe\",\"Europe\",\"Europe\",\"North America\",\"North America\",\"North America\",\"North America\",\"Asia\",\"Asia\",\"Asia\",\"Europe\",\"North America\",\"Europe\",\"Asia\",\"South America\",\"Asia\",\"Asia\",\"Asia\",\"Asia\",\"South America\",\"Europe\",\"South America\",\"Europe\",\"South America\",\"North America\",\"South America\",\"Europe\",\"Europe\",\"North America\",\"South America\",\"South America\",\"South America\",\"South America\",\"South America\",\"Asia\",\"North America\",\"Europe\",\"Europe\",\"North America\",\"South America\",\"South America\",\"South America\",\"North America\",\"South America\",\"South America\",\"Europe\",\"Europe\",\"North America\",\"North America\",\"Europe\",\"Europe\",\"South America\",\"South America\",\"North America\",\"Asia\",\"South America\",\"South America\",\"Asia\",\"South America\",\"South America\",\"South America\",\"Europe\",\"Asia\",\"Asia\",\"Europe\",\"North America\",\"Europe\",\"North America\",\"North America\",\"Asia\",\"South America\",\"Europe\",\"South America\",\"Asia\",\"Europe\",\"North America\",\"Europe\",\"North America\",\"North America\",\"South America\",\"South America\",\"Europe\",\"Europe\",\"Asia\",\"South America\",\"South America\",\"Europe\",\"Asia\",\"Asia\",\"Asia\",\"Europe\",\"North America\",\"Asia\",\"North America\",\"North America\",\"Asia\",\"Europe\",\"Asia\",\"North America\",\"North America\",\"Europe\",\"South America\",\"Europe\",\"Europe\",\"South America\",\"South America\",\"Europe\",\"Asia\",\"Asia\",\"Europe\",\"North America\",\"Asia\",\"South America\",\"Asia\",\"Asia\",\"Asia\",\"North America\",\"South America\",\"North America\",\"Asia\",\"South America\",\"South America\",\"South America\",\"South America\",\"North America\",\"North America\",\"North America\",\"North America\",\"South America\",\"Asia\",\"Asia\",\"Europe\",\"South America\",\"Europe\",\"South America\",\"South America\",\"North America\",\"Europe\",\"Asia\",\"South America\",\"South America\",\"South America\",\"South America\",\"South America\",\"Asia\",\"South America\",\"Europe\",\"South America\",\"North America\",\"Europe\",\"South America\",\"South America\",\"North America\",\"Europe\",\"South America\",\"Asia\",\"Europe\",\"North America\",\"Asia\",\"South America\",\"North America\",\"South America\",\"Europe\",\"Europe\",\"North America\",\"South America\",\"Asia\",\"Asia\",\"North America\",\"Europe\",\"North America\",\"Asia\",\"North America\",\"South America\",\"Asia\",\"South America\",\"Asia\",\"North America\",\"Europe\",\"Asia\",\"Europe\",\"Europe\",\"Europe\",\"Asia\",\"South America\",\"North America\",\"Asia\",\"Europe\",\"Europe\",\"South America\",\"Asia\",\"South America\",\"North America\",\"South America\",\"Europe\",\"North America\",\"Europe\",\"Europe\",\"South America\",\"South America\",\"South America\",\"Asia\",\"Europe\",\"Asia\",\"North America\",\"Europe\",\"South America\",\"North America\",\"Europe\",\"North America\",\"Asia\",\"South America\",\"Asia\",\"South America\",\"Europe\",\"Asia\",\"North America\",\"Europe\",\"Europe\",\"South America\",\"South America\",\"Asia\",\"Europe\",\"North America\",\"Asia\",\"Europe\",\"South America\",\"Europe\",\"North America\",\"North America\",\"Europe\",\"South America\",\"Asia\",\"Europe\",\"South America\",\"South America\",\"South America\",\"South America\",\"South America\"],\"x0\":\" \",\"xaxis\":\"x\",\"y\":[300.68,300.68,300.68,601.36,902.04,300.68,902.04,300.68,902.04,601.36,902.04,601.36,601.36,550.16,412.62,137.54,412.62,412.62,412.62,412.62,275.08,412.62,137.54,550.16,412.62,137.54,137.54,412.62,834.74,417.37,1252.11,1669.48,1669.48,417.37,834.74,417.37,834.74,1252.11,1669.48,1669.48,1669.48,417.37,1669.48,1252.11,293.7,293.7,293.7,293.7,146.85,146.85,293.7,440.55,293.7,293.7,824.82,1099.76,274.94,824.82,824.82,274.94,1099.76,274.94,274.94,1099.76,1011.66,337.22,1348.88,674.44,337.22,1011.66,1011.66,337.22,337.22,1348.88,337.22,433.64,1734.56,433.64,433.64,867.28,1734.56,1300.92,867.28,1734.56,1300.92,1300.92,867.28,867.28,1734.56,1734.56,867.28,1300.92,337.91,675.82,1351.64,337.91,675.82,1013.73,1351.64,1013.73,337.91,675.82,1351.64,1351.64,1013.73,488.63,1954.52,977.26,488.63,977.26,1465.89,977.26,977.26,1465.89,977.26,488.63,263.55,527.1,263.55,263.55,1054.2,527.1,1054.2,790.65,942.32,942.32,706.74,942.32,706.74,706.74,942.32,235.58,706.74,706.74,471.16,942.32,899.79,299.93,899.79,299.93,599.86,1199.72,599.86,958.8,479.4,479.4,719.1,239.7,958.8,479.4,958.8,958.8,479.4,719.1,719.1,719.1,958.8,479.4,443.85,591.8,591.8,591.8,295.9,295.9,295.9,591.8,295.9,147.95,443.85,147.95,295.9,147.95,147.95,1122.48,1496.64,748.32,1122.48,748.32,374.16,748.32,374.16,1496.64,748.32,1496.64,374.16,1496.64,748.32,748.32,748.32,833.58,1111.44,1111.44,833.58,277.86,277.86,1111.44,277.86,277.86,909.6,909.6,303.2,303.2,909.6,303.2,909.6,303.2,1212.8,909.6,606.4,1212.8,1212.8,606.4,303.2,909.6,606.4,303.2,1212.8,1277.36,958.02,958.02,1277.36,958.02,319.34,1277.36,638.68,319.34,354.29,708.58,1417.16,1417.16,1717.16,858.58,1717.16,429.29,1287.87,1717.16,1287.87,1287.87,429.29,429.29,1493.28,1493.28,995.52,497.76,1493.28,1493.28,1991.04,1493.28,995.52,995.52,732.14,1098.21,1464.28,366.07,1464.28,1098.21,366.07,1464.28,477.99,637.32,318.66,637.32,318.66,637.32,318.66,477.99,318.66,159.33,128.5,192.75,128.5,192.75,128.5,192.75,257.0,192.75,227.26,681.78,454.52,909.04,454.52,681.78,909.04,147.22,588.88,294.44,441.66,441.66,147.22,294.44,588.88,588.88,147.22,147.22,147.22,147.22,447.23,1341.69,894.46,1788.92,1341.69,1341.69,447.23,447.23,447.23,447.23,1341.69,392.8,785.6,196.4,392.8,1419.24,709.62,1419.24,709.62,1419.24,122.36,91.77,122.36,61.18,30.59,30.59,30.59,61.18,122.36,122.36,191.38,287.07,95.69,382.76,382.76,95.69,287.07,894.68,894.68,894.68,1789.36,1342.02,1342.02,447.34,1342.02,894.68,894.68,1342.02,128.76,257.52,64.38,257.52,128.76,193.14,193.14,130.32,195.48,195.48,65.16,130.32,260.64,195.48,65.16,195.48,260.64,342.6,342.6,114.2,342.6,342.6,114.2,456.8,456.8,114.2,342.6,114.2,335.84,335.84,335.84,1007.52,1007.52,1343.36,671.68,1007.52,335.84,1007.52,1007.52,165.3,330.6,661.2,165.3,330.6,330.6,165.3,165.3,330.05,1320.2,330.05,990.15,1320.2,330.05,1320.2,990.15,330.05,1879.08,469.77,939.54,1879.08,939.54,1879.08,939.54,469.77,1879.08,939.54,242.64,121.32,363.96,121.32,485.28,485.28,242.64,485.28,485.28,363.96,363.96,242.64,363.96,1822.88,911.44,1367.16,911.44,1367.16,1367.16,455.72,455.72,1367.16,1367.16,911.44,911.44,455.72,222.95,668.85,891.8,891.8,668.85,668.85,445.9,614.94,614.94,307.47,614.94,614.94,307.47,922.41,614.94,307.47,1229.88,1229.88,922.41,922.41,922.41,307.47,134.36,33.59,33.59,100.77,100.77,100.77,100.77,134.36,100.77,1015.98,338.66,1354.64,677.32,677.32,437.65,875.3,437.65,1312.95,1750.6,437.65,875.3,437.65,1312.95,1312.95,1750.6,875.3,437.65,1665.6,1249.2,1665.6,1665.6,1249.2,1665.6,416.4,832.8,1249.2,416.4,832.8,1249.2,416.4,1665.6,1665.6,808.8,808.8,1617.6,404.4,1617.6,1617.6,808.8,404.4,808.8,1213.2,1617.6,434.1,434.1,868.2,868.2,651.15,217.05,868.2,217.05,217.05,372.55,1490.2,745.1,1117.65,372.55,372.55,745.1,372.55,372.55,745.1,1117.65,1117.65,1050.39,700.26,1050.39,1050.39,700.26,350.13,700.26,1050.39,350.13,350.13,700.26,430.59,1291.77,1722.36,1291.77,1291.77,1722.36,1291.77,430.59,1291.77,1722.36,861.18,430.59,128.53,385.59,128.53,514.12,257.06,257.06,128.53,385.59,514.12,385.59,176.48,132.36,176.48,44.12,88.24,88.24,176.48,132.36,44.12,132.36,88.24,88.24,505.36,252.68,126.34,505.36,252.68,252.68,441.82,883.64,662.73,883.64,662.73,883.64,662.73,770.74,385.37,770.74,1156.11,1541.48,1541.48,1541.48,1541.48,1156.11,1541.48,1541.48,382.08,254.72,382.08,509.44,127.36,509.44,254.72,127.36,1762.8,881.4,440.7,1762.8,1322.1,1762.8,1322.1,1762.8,1762.8,853.86,1138.48,569.24,853.86,853.86,284.62,569.24,284.62,1138.48,284.62,853.86,853.86,1044.8,1044.8,261.2,783.6,522.4,1044.8,1044.8,522.4,261.2,1044.8,1368.84,456.28,456.28,1825.12,912.56,1825.12,1825.12,912.56,1825.12,456.28,1368.84,1680.6,840.3,840.3,840.3,1680.6,420.15,1260.45,840.3,476.79,158.93,158.93,635.72,158.93,158.93,635.72,476.79,627.84,470.88,470.88,470.88,156.96,627.84,156.96,470.88,156.96,627.84,313.92,627.84,470.88,627.84,156.96,313.92,1357.26,452.42,452.42,1357.26,452.42,1809.68,452.42,1809.68,1357.26,904.84,315.24,630.48,630.48,472.86,315.24,157.62,630.48,315.24,157.62,315.24,315.24,157.62,630.48,916.24,916.24,916.24,458.12,916.24,687.18,687.18,458.12,916.24,458.12,916.24,66.32,66.32,198.96,198.96,132.64,66.32,265.28,66.32,265.28,265.28,198.96,265.28,132.64,427.61,855.22,855.22,855.22,1282.83,855.22,1282.83,1710.44,855.22,427.61,1282.83,53.98,53.98,80.97,80.97,107.96,26.99,53.98,107.96,53.98,26.99,64.32,16.08,64.32,64.32,48.24,16.08,32.16,32.16,389.2,1167.6,1556.8,1556.8,1556.8,389.2,1167.6,778.4,1556.8,1249.05,832.7,1249.05,1249.05,1249.05,1665.4,416.35,1665.4,1214.0,303.5,607.0,1214.0,607.0,607.0,1214.0,303.5,303.5,910.5,229.2,229.2,229.2,171.9,114.6,114.6,171.9,114.6,114.6,57.3,171.9,171.9,229.2,171.9,171.9,171.9,41.18,123.54,164.72,82.36,82.36,164.72,164.72,41.18,123.54,82.36,612.76,459.57,306.38,612.76,153.19,612.76,612.76,306.38,612.76,306.38,306.38,306.38,306.38,201.62,403.24,201.62,201.62,100.81,201.62,100.81,100.81,201.62,302.43,100.81,302.43,507.9,338.6,677.2,338.6,169.3,338.6,338.6,338.6,1062.04,531.02,1062.04,531.02,265.51,1062.04,105.04,78.78,105.04,78.78,167.97,55.99,55.99,167.97,167.97,111.98,111.98,223.96,963.56,963.56,481.78,963.56,963.56,963.56,1445.34,1927.12,1198.02,798.68,1198.02,1198.02,798.68,798.68,1038.9,1038.9,1385.2,692.6,1038.9,1385.2,1385.2,692.6,1839.44,459.86,919.72,1379.58,459.86,919.72,919.72,1747.56,436.89,436.89,1310.67,1747.56,1747.56,1310.67,1818.12,454.53,454.53,909.06,909.06,1363.59,454.53,1363.59,1818.12,580.34,1160.68,580.34,290.17,290.17,580.34,1160.68,290.17,1160.68,580.34,870.51,580.34,792.68,1189.02,1585.36,1189.02,1585.36,1585.36,1585.36,1585.36,1585.36,396.34,1585.36,396.34,194.76,97.38,48.69,146.07,48.69,194.76,159.6,638.4,319.2,159.6,478.8,159.6,319.2,159.6,1287.93,1717.24,1287.93,858.62,1287.93,1287.93,1287.93,1287.93,295.58,886.74,295.58,886.74,886.74,295.58,1182.32,295.58,1182.32,886.74,1182.32,1182.32,886.74,379.44,1517.76,1517.76,1138.32,1138.32,758.88,1138.32,379.44,650.02,975.03,650.02,325.01,1300.04,325.01,650.02,622.6,155.65,622.6,311.3,155.65,155.65,304.94,1219.76,609.88,304.94,609.88,1219.76,304.94,609.88,75.28,75.28,56.46,37.64],\"y0\":\" \",\"yaxis\":\"y\",\"type\":\"box\"}],                        {\"template\":{\"data\":{\"bar\":[{\"error_x\":{\"color\":\"#2a3f5f\"},\"error_y\":{\"color\":\"#2a3f5f\"},\"marker\":{\"line\":{\"color\":\"#E5ECF6\",\"width\":0.5},\"pattern\":{\"fillmode\":\"overlay\",\"size\":10,\"solidity\":0.2}},\"type\":\"bar\"}],\"barpolar\":[{\"marker\":{\"line\":{\"color\":\"#E5ECF6\",\"width\":0.5},\"pattern\":{\"fillmode\":\"overlay\",\"size\":10,\"solidity\":0.2}},\"type\":\"barpolar\"}],\"carpet\":[{\"aaxis\":{\"endlinecolor\":\"#2a3f5f\",\"gridcolor\":\"white\",\"linecolor\":\"white\",\"minorgridcolor\":\"white\",\"startlinecolor\":\"#2a3f5f\"},\"baxis\":{\"endlinecolor\":\"#2a3f5f\",\"gridcolor\":\"white\",\"linecolor\":\"white\",\"minorgridcolor\":\"white\",\"startlinecolor\":\"#2a3f5f\"},\"type\":\"carpet\"}],\"choropleth\":[{\"colorbar\":{\"outlinewidth\":0,\"ticks\":\"\"},\"type\":\"choropleth\"}],\"contour\":[{\"colorbar\":{\"outlinewidth\":0,\"ticks\":\"\"},\"colorscale\":[[0.0,\"#0d0887\"],[0.1111111111111111,\"#46039f\"],[0.2222222222222222,\"#7201a8\"],[0.3333333333333333,\"#9c179e\"],[0.4444444444444444,\"#bd3786\"],[0.5555555555555556,\"#d8576b\"],[0.6666666666666666,\"#ed7953\"],[0.7777777777777778,\"#fb9f3a\"],[0.8888888888888888,\"#fdca26\"],[1.0,\"#f0f921\"]],\"type\":\"contour\"}],\"contourcarpet\":[{\"colorbar\":{\"outlinewidth\":0,\"ticks\":\"\"},\"type\":\"contourcarpet\"}],\"heatmap\":[{\"colorbar\":{\"outlinewidth\":0,\"ticks\":\"\"},\"colorscale\":[[0.0,\"#0d0887\"],[0.1111111111111111,\"#46039f\"],[0.2222222222222222,\"#7201a8\"],[0.3333333333333333,\"#9c179e\"],[0.4444444444444444,\"#bd3786\"],[0.5555555555555556,\"#d8576b\"],[0.6666666666666666,\"#ed7953\"],[0.7777777777777778,\"#fb9f3a\"],[0.8888888888888888,\"#fdca26\"],[1.0,\"#f0f921\"]],\"type\":\"heatmap\"}],\"heatmapgl\":[{\"colorbar\":{\"outlinewidth\":0,\"ticks\":\"\"},\"colorscale\":[[0.0,\"#0d0887\"],[0.1111111111111111,\"#46039f\"],[0.2222222222222222,\"#7201a8\"],[0.3333333333333333,\"#9c179e\"],[0.4444444444444444,\"#bd3786\"],[0.5555555555555556,\"#d8576b\"],[0.6666666666666666,\"#ed7953\"],[0.7777777777777778,\"#fb9f3a\"],[0.8888888888888888,\"#fdca26\"],[1.0,\"#f0f921\"]],\"type\":\"heatmapgl\"}],\"histogram\":[{\"marker\":{\"pattern\":{\"fillmode\":\"overlay\",\"size\":10,\"solidity\":0.2}},\"type\":\"histogram\"}],\"histogram2d\":[{\"colorbar\":{\"outlinewidth\":0,\"ticks\":\"\"},\"colorscale\":[[0.0,\"#0d0887\"],[0.1111111111111111,\"#46039f\"],[0.2222222222222222,\"#7201a8\"],[0.3333333333333333,\"#9c179e\"],[0.4444444444444444,\"#bd3786\"],[0.5555555555555556,\"#d8576b\"],[0.6666666666666666,\"#ed7953\"],[0.7777777777777778,\"#fb9f3a\"],[0.8888888888888888,\"#fdca26\"],[1.0,\"#f0f921\"]],\"type\":\"histogram2d\"}],\"histogram2dcontour\":[{\"colorbar\":{\"outlinewidth\":0,\"ticks\":\"\"},\"colorscale\":[[0.0,\"#0d0887\"],[0.1111111111111111,\"#46039f\"],[0.2222222222222222,\"#7201a8\"],[0.3333333333333333,\"#9c179e\"],[0.4444444444444444,\"#bd3786\"],[0.5555555555555556,\"#d8576b\"],[0.6666666666666666,\"#ed7953\"],[0.7777777777777778,\"#fb9f3a\"],[0.8888888888888888,\"#fdca26\"],[1.0,\"#f0f921\"]],\"type\":\"histogram2dcontour\"}],\"mesh3d\":[{\"colorbar\":{\"outlinewidth\":0,\"ticks\":\"\"},\"type\":\"mesh3d\"}],\"parcoords\":[{\"line\":{\"colorbar\":{\"outlinewidth\":0,\"ticks\":\"\"}},\"type\":\"parcoords\"}],\"pie\":[{\"automargin\":true,\"type\":\"pie\"}],\"scatter\":[{\"marker\":{\"colorbar\":{\"outlinewidth\":0,\"ticks\":\"\"}},\"type\":\"scatter\"}],\"scatter3d\":[{\"line\":{\"colorbar\":{\"outlinewidth\":0,\"ticks\":\"\"}},\"marker\":{\"colorbar\":{\"outlinewidth\":0,\"ticks\":\"\"}},\"type\":\"scatter3d\"}],\"scattercarpet\":[{\"marker\":{\"colorbar\":{\"outlinewidth\":0,\"ticks\":\"\"}},\"type\":\"scattercarpet\"}],\"scattergeo\":[{\"marker\":{\"colorbar\":{\"outlinewidth\":0,\"ticks\":\"\"}},\"type\":\"scattergeo\"}],\"scattergl\":[{\"marker\":{\"colorbar\":{\"outlinewidth\":0,\"ticks\":\"\"}},\"type\":\"scattergl\"}],\"scattermapbox\":[{\"marker\":{\"colorbar\":{\"outlinewidth\":0,\"ticks\":\"\"}},\"type\":\"scattermapbox\"}],\"scatterpolar\":[{\"marker\":{\"colorbar\":{\"outlinewidth\":0,\"ticks\":\"\"}},\"type\":\"scatterpolar\"}],\"scatterpolargl\":[{\"marker\":{\"colorbar\":{\"outlinewidth\":0,\"ticks\":\"\"}},\"type\":\"scatterpolargl\"}],\"scatterternary\":[{\"marker\":{\"colorbar\":{\"outlinewidth\":0,\"ticks\":\"\"}},\"type\":\"scatterternary\"}],\"surface\":[{\"colorbar\":{\"outlinewidth\":0,\"ticks\":\"\"},\"colorscale\":[[0.0,\"#0d0887\"],[0.1111111111111111,\"#46039f\"],[0.2222222222222222,\"#7201a8\"],[0.3333333333333333,\"#9c179e\"],[0.4444444444444444,\"#bd3786\"],[0.5555555555555556,\"#d8576b\"],[0.6666666666666666,\"#ed7953\"],[0.7777777777777778,\"#fb9f3a\"],[0.8888888888888888,\"#fdca26\"],[1.0,\"#f0f921\"]],\"type\":\"surface\"}],\"table\":[{\"cells\":{\"fill\":{\"color\":\"#EBF0F8\"},\"line\":{\"color\":\"white\"}},\"header\":{\"fill\":{\"color\":\"#C8D4E3\"},\"line\":{\"color\":\"white\"}},\"type\":\"table\"}]},\"layout\":{\"annotationdefaults\":{\"arrowcolor\":\"#2a3f5f\",\"arrowhead\":0,\"arrowwidth\":1},\"autotypenumbers\":\"strict\",\"coloraxis\":{\"colorbar\":{\"outlinewidth\":0,\"ticks\":\"\"}},\"colorscale\":{\"diverging\":[[0,\"#8e0152\"],[0.1,\"#c51b7d\"],[0.2,\"#de77ae\"],[0.3,\"#f1b6da\"],[0.4,\"#fde0ef\"],[0.5,\"#f7f7f7\"],[0.6,\"#e6f5d0\"],[0.7,\"#b8e186\"],[0.8,\"#7fbc41\"],[0.9,\"#4d9221\"],[1,\"#276419\"]],\"sequential\":[[0.0,\"#0d0887\"],[0.1111111111111111,\"#46039f\"],[0.2222222222222222,\"#7201a8\"],[0.3333333333333333,\"#9c179e\"],[0.4444444444444444,\"#bd3786\"],[0.5555555555555556,\"#d8576b\"],[0.6666666666666666,\"#ed7953\"],[0.7777777777777778,\"#fb9f3a\"],[0.8888888888888888,\"#fdca26\"],[1.0,\"#f0f921\"]],\"sequentialminus\":[[0.0,\"#0d0887\"],[0.1111111111111111,\"#46039f\"],[0.2222222222222222,\"#7201a8\"],[0.3333333333333333,\"#9c179e\"],[0.4444444444444444,\"#bd3786\"],[0.5555555555555556,\"#d8576b\"],[0.6666666666666666,\"#ed7953\"],[0.7777777777777778,\"#fb9f3a\"],[0.8888888888888888,\"#fdca26\"],[1.0,\"#f0f921\"]]},\"colorway\":[\"#636efa\",\"#EF553B\",\"#00cc96\",\"#ab63fa\",\"#FFA15A\",\"#19d3f3\",\"#FF6692\",\"#B6E880\",\"#FF97FF\",\"#FECB52\"],\"font\":{\"color\":\"#2a3f5f\"},\"geo\":{\"bgcolor\":\"white\",\"lakecolor\":\"white\",\"landcolor\":\"#E5ECF6\",\"showlakes\":true,\"showland\":true,\"subunitcolor\":\"white\"},\"hoverlabel\":{\"align\":\"left\"},\"hovermode\":\"closest\",\"mapbox\":{\"style\":\"light\"},\"paper_bgcolor\":\"white\",\"plot_bgcolor\":\"#E5ECF6\",\"polar\":{\"angularaxis\":{\"gridcolor\":\"white\",\"linecolor\":\"white\",\"ticks\":\"\"},\"bgcolor\":\"#E5ECF6\",\"radialaxis\":{\"gridcolor\":\"white\",\"linecolor\":\"white\",\"ticks\":\"\"}},\"scene\":{\"xaxis\":{\"backgroundcolor\":\"#E5ECF6\",\"gridcolor\":\"white\",\"gridwidth\":2,\"linecolor\":\"white\",\"showbackground\":true,\"ticks\":\"\",\"zerolinecolor\":\"white\"},\"yaxis\":{\"backgroundcolor\":\"#E5ECF6\",\"gridcolor\":\"white\",\"gridwidth\":2,\"linecolor\":\"white\",\"showbackground\":true,\"ticks\":\"\",\"zerolinecolor\":\"white\"},\"zaxis\":{\"backgroundcolor\":\"#E5ECF6\",\"gridcolor\":\"white\",\"gridwidth\":2,\"linecolor\":\"white\",\"showbackground\":true,\"ticks\":\"\",\"zerolinecolor\":\"white\"}},\"shapedefaults\":{\"line\":{\"color\":\"#2a3f5f\"}},\"ternary\":{\"aaxis\":{\"gridcolor\":\"white\",\"linecolor\":\"white\",\"ticks\":\"\"},\"baxis\":{\"gridcolor\":\"white\",\"linecolor\":\"white\",\"ticks\":\"\"},\"bgcolor\":\"#E5ECF6\",\"caxis\":{\"gridcolor\":\"white\",\"linecolor\":\"white\",\"ticks\":\"\"}},\"title\":{\"x\":0.05},\"xaxis\":{\"automargin\":true,\"gridcolor\":\"white\",\"linecolor\":\"white\",\"ticks\":\"\",\"title\":{\"standoff\":15},\"zerolinecolor\":\"white\",\"zerolinewidth\":2},\"yaxis\":{\"automargin\":true,\"gridcolor\":\"white\",\"linecolor\":\"white\",\"ticks\":\"\",\"title\":{\"standoff\":15},\"zerolinecolor\":\"white\",\"zerolinewidth\":2}}},\"xaxis\":{\"anchor\":\"y\",\"domain\":[0.0,1.0],\"title\":{\"text\":\"Region\"}},\"yaxis\":{\"anchor\":\"x\",\"domain\":[0.0,1.0],\"title\":{\"text\":\"Transaction Value\"}},\"legend\":{\"tracegroupgap\":0},\"title\":{\"text\":\"Total Transaction Value by Region\"},\"boxmode\":\"group\"},                        {\"responsive\": true}                    ).then(function(){\n",
       "                            \n",
       "var gd = document.getElementById('ae464190-8d7b-4702-87ee-8c1f1fcfae8b');\n",
       "var x = new MutationObserver(function (mutations, observer) {{\n",
       "        var display = window.getComputedStyle(gd).display;\n",
       "        if (!display || display === 'none') {{\n",
       "            console.log([gd, 'removed!']);\n",
       "            Plotly.purge(gd);\n",
       "            observer.disconnect();\n",
       "        }}\n",
       "}});\n",
       "\n",
       "// Listen for the removal of the full notebook cells\n",
       "var notebookContainer = gd.closest('#notebook-container');\n",
       "if (notebookContainer) {{\n",
       "    x.observe(notebookContainer, {childList: true});\n",
       "}}\n",
       "\n",
       "// Listen for the clearing of the current output cell\n",
       "var outputEl = gd.closest('.output');\n",
       "if (outputEl) {{\n",
       "    x.observe(outputEl, {childList: true});\n",
       "}}\n",
       "\n",
       "                        })                };                });            </script>        </div>"
      ]
     },
     "metadata": {},
     "output_type": "display_data"
    },
    {
     "data": {
      "application/vnd.plotly.v1+json": {
       "config": {
        "plotlyServerURL": "https://plot.ly"
       },
       "data": [
        {
         "alignmentgroup": "True",
         "hovertemplate": "Product Category=%{x}<br>Count=%{y}<extra></extra>",
         "legendgroup": "",
         "marker": {
          "color": "#636efa",
          "pattern": {
           "shape": ""
          }
         },
         "name": "",
         "offsetgroup": "",
         "orientation": "v",
         "showlegend": false,
         "textposition": "auto",
         "type": "bar",
         "x": [
          "Books",
          "Electronics",
          "Home Decor",
          "Clothing"
         ],
         "xaxis": "x",
         "y": [
          270,
          254,
          248,
          228
         ],
         "yaxis": "y"
        }
       ],
       "layout": {
        "barmode": "relative",
        "legend": {
         "tracegroupgap": 0
        },
        "template": {
         "data": {
          "bar": [
           {
            "error_x": {
             "color": "#2a3f5f"
            },
            "error_y": {
             "color": "#2a3f5f"
            },
            "marker": {
             "line": {
              "color": "#E5ECF6",
              "width": 0.5
             },
             "pattern": {
              "fillmode": "overlay",
              "size": 10,
              "solidity": 0.2
             }
            },
            "type": "bar"
           }
          ],
          "barpolar": [
           {
            "marker": {
             "line": {
              "color": "#E5ECF6",
              "width": 0.5
             },
             "pattern": {
              "fillmode": "overlay",
              "size": 10,
              "solidity": 0.2
             }
            },
            "type": "barpolar"
           }
          ],
          "carpet": [
           {
            "aaxis": {
             "endlinecolor": "#2a3f5f",
             "gridcolor": "white",
             "linecolor": "white",
             "minorgridcolor": "white",
             "startlinecolor": "#2a3f5f"
            },
            "baxis": {
             "endlinecolor": "#2a3f5f",
             "gridcolor": "white",
             "linecolor": "white",
             "minorgridcolor": "white",
             "startlinecolor": "#2a3f5f"
            },
            "type": "carpet"
           }
          ],
          "choropleth": [
           {
            "colorbar": {
             "outlinewidth": 0,
             "ticks": ""
            },
            "type": "choropleth"
           }
          ],
          "contour": [
           {
            "colorbar": {
             "outlinewidth": 0,
             "ticks": ""
            },
            "colorscale": [
             [
              0,
              "#0d0887"
             ],
             [
              0.1111111111111111,
              "#46039f"
             ],
             [
              0.2222222222222222,
              "#7201a8"
             ],
             [
              0.3333333333333333,
              "#9c179e"
             ],
             [
              0.4444444444444444,
              "#bd3786"
             ],
             [
              0.5555555555555556,
              "#d8576b"
             ],
             [
              0.6666666666666666,
              "#ed7953"
             ],
             [
              0.7777777777777778,
              "#fb9f3a"
             ],
             [
              0.8888888888888888,
              "#fdca26"
             ],
             [
              1,
              "#f0f921"
             ]
            ],
            "type": "contour"
           }
          ],
          "contourcarpet": [
           {
            "colorbar": {
             "outlinewidth": 0,
             "ticks": ""
            },
            "type": "contourcarpet"
           }
          ],
          "heatmap": [
           {
            "colorbar": {
             "outlinewidth": 0,
             "ticks": ""
            },
            "colorscale": [
             [
              0,
              "#0d0887"
             ],
             [
              0.1111111111111111,
              "#46039f"
             ],
             [
              0.2222222222222222,
              "#7201a8"
             ],
             [
              0.3333333333333333,
              "#9c179e"
             ],
             [
              0.4444444444444444,
              "#bd3786"
             ],
             [
              0.5555555555555556,
              "#d8576b"
             ],
             [
              0.6666666666666666,
              "#ed7953"
             ],
             [
              0.7777777777777778,
              "#fb9f3a"
             ],
             [
              0.8888888888888888,
              "#fdca26"
             ],
             [
              1,
              "#f0f921"
             ]
            ],
            "type": "heatmap"
           }
          ],
          "heatmapgl": [
           {
            "colorbar": {
             "outlinewidth": 0,
             "ticks": ""
            },
            "colorscale": [
             [
              0,
              "#0d0887"
             ],
             [
              0.1111111111111111,
              "#46039f"
             ],
             [
              0.2222222222222222,
              "#7201a8"
             ],
             [
              0.3333333333333333,
              "#9c179e"
             ],
             [
              0.4444444444444444,
              "#bd3786"
             ],
             [
              0.5555555555555556,
              "#d8576b"
             ],
             [
              0.6666666666666666,
              "#ed7953"
             ],
             [
              0.7777777777777778,
              "#fb9f3a"
             ],
             [
              0.8888888888888888,
              "#fdca26"
             ],
             [
              1,
              "#f0f921"
             ]
            ],
            "type": "heatmapgl"
           }
          ],
          "histogram": [
           {
            "marker": {
             "pattern": {
              "fillmode": "overlay",
              "size": 10,
              "solidity": 0.2
             }
            },
            "type": "histogram"
           }
          ],
          "histogram2d": [
           {
            "colorbar": {
             "outlinewidth": 0,
             "ticks": ""
            },
            "colorscale": [
             [
              0,
              "#0d0887"
             ],
             [
              0.1111111111111111,
              "#46039f"
             ],
             [
              0.2222222222222222,
              "#7201a8"
             ],
             [
              0.3333333333333333,
              "#9c179e"
             ],
             [
              0.4444444444444444,
              "#bd3786"
             ],
             [
              0.5555555555555556,
              "#d8576b"
             ],
             [
              0.6666666666666666,
              "#ed7953"
             ],
             [
              0.7777777777777778,
              "#fb9f3a"
             ],
             [
              0.8888888888888888,
              "#fdca26"
             ],
             [
              1,
              "#f0f921"
             ]
            ],
            "type": "histogram2d"
           }
          ],
          "histogram2dcontour": [
           {
            "colorbar": {
             "outlinewidth": 0,
             "ticks": ""
            },
            "colorscale": [
             [
              0,
              "#0d0887"
             ],
             [
              0.1111111111111111,
              "#46039f"
             ],
             [
              0.2222222222222222,
              "#7201a8"
             ],
             [
              0.3333333333333333,
              "#9c179e"
             ],
             [
              0.4444444444444444,
              "#bd3786"
             ],
             [
              0.5555555555555556,
              "#d8576b"
             ],
             [
              0.6666666666666666,
              "#ed7953"
             ],
             [
              0.7777777777777778,
              "#fb9f3a"
             ],
             [
              0.8888888888888888,
              "#fdca26"
             ],
             [
              1,
              "#f0f921"
             ]
            ],
            "type": "histogram2dcontour"
           }
          ],
          "mesh3d": [
           {
            "colorbar": {
             "outlinewidth": 0,
             "ticks": ""
            },
            "type": "mesh3d"
           }
          ],
          "parcoords": [
           {
            "line": {
             "colorbar": {
              "outlinewidth": 0,
              "ticks": ""
             }
            },
            "type": "parcoords"
           }
          ],
          "pie": [
           {
            "automargin": true,
            "type": "pie"
           }
          ],
          "scatter": [
           {
            "marker": {
             "colorbar": {
              "outlinewidth": 0,
              "ticks": ""
             }
            },
            "type": "scatter"
           }
          ],
          "scatter3d": [
           {
            "line": {
             "colorbar": {
              "outlinewidth": 0,
              "ticks": ""
             }
            },
            "marker": {
             "colorbar": {
              "outlinewidth": 0,
              "ticks": ""
             }
            },
            "type": "scatter3d"
           }
          ],
          "scattercarpet": [
           {
            "marker": {
             "colorbar": {
              "outlinewidth": 0,
              "ticks": ""
             }
            },
            "type": "scattercarpet"
           }
          ],
          "scattergeo": [
           {
            "marker": {
             "colorbar": {
              "outlinewidth": 0,
              "ticks": ""
             }
            },
            "type": "scattergeo"
           }
          ],
          "scattergl": [
           {
            "marker": {
             "colorbar": {
              "outlinewidth": 0,
              "ticks": ""
             }
            },
            "type": "scattergl"
           }
          ],
          "scattermapbox": [
           {
            "marker": {
             "colorbar": {
              "outlinewidth": 0,
              "ticks": ""
             }
            },
            "type": "scattermapbox"
           }
          ],
          "scatterpolar": [
           {
            "marker": {
             "colorbar": {
              "outlinewidth": 0,
              "ticks": ""
             }
            },
            "type": "scatterpolar"
           }
          ],
          "scatterpolargl": [
           {
            "marker": {
             "colorbar": {
              "outlinewidth": 0,
              "ticks": ""
             }
            },
            "type": "scatterpolargl"
           }
          ],
          "scatterternary": [
           {
            "marker": {
             "colorbar": {
              "outlinewidth": 0,
              "ticks": ""
             }
            },
            "type": "scatterternary"
           }
          ],
          "surface": [
           {
            "colorbar": {
             "outlinewidth": 0,
             "ticks": ""
            },
            "colorscale": [
             [
              0,
              "#0d0887"
             ],
             [
              0.1111111111111111,
              "#46039f"
             ],
             [
              0.2222222222222222,
              "#7201a8"
             ],
             [
              0.3333333333333333,
              "#9c179e"
             ],
             [
              0.4444444444444444,
              "#bd3786"
             ],
             [
              0.5555555555555556,
              "#d8576b"
             ],
             [
              0.6666666666666666,
              "#ed7953"
             ],
             [
              0.7777777777777778,
              "#fb9f3a"
             ],
             [
              0.8888888888888888,
              "#fdca26"
             ],
             [
              1,
              "#f0f921"
             ]
            ],
            "type": "surface"
           }
          ],
          "table": [
           {
            "cells": {
             "fill": {
              "color": "#EBF0F8"
             },
             "line": {
              "color": "white"
             }
            },
            "header": {
             "fill": {
              "color": "#C8D4E3"
             },
             "line": {
              "color": "white"
             }
            },
            "type": "table"
           }
          ]
         },
         "layout": {
          "annotationdefaults": {
           "arrowcolor": "#2a3f5f",
           "arrowhead": 0,
           "arrowwidth": 1
          },
          "autotypenumbers": "strict",
          "coloraxis": {
           "colorbar": {
            "outlinewidth": 0,
            "ticks": ""
           }
          },
          "colorscale": {
           "diverging": [
            [
             0,
             "#8e0152"
            ],
            [
             0.1,
             "#c51b7d"
            ],
            [
             0.2,
             "#de77ae"
            ],
            [
             0.3,
             "#f1b6da"
            ],
            [
             0.4,
             "#fde0ef"
            ],
            [
             0.5,
             "#f7f7f7"
            ],
            [
             0.6,
             "#e6f5d0"
            ],
            [
             0.7,
             "#b8e186"
            ],
            [
             0.8,
             "#7fbc41"
            ],
            [
             0.9,
             "#4d9221"
            ],
            [
             1,
             "#276419"
            ]
           ],
           "sequential": [
            [
             0,
             "#0d0887"
            ],
            [
             0.1111111111111111,
             "#46039f"
            ],
            [
             0.2222222222222222,
             "#7201a8"
            ],
            [
             0.3333333333333333,
             "#9c179e"
            ],
            [
             0.4444444444444444,
             "#bd3786"
            ],
            [
             0.5555555555555556,
             "#d8576b"
            ],
            [
             0.6666666666666666,
             "#ed7953"
            ],
            [
             0.7777777777777778,
             "#fb9f3a"
            ],
            [
             0.8888888888888888,
             "#fdca26"
            ],
            [
             1,
             "#f0f921"
            ]
           ],
           "sequentialminus": [
            [
             0,
             "#0d0887"
            ],
            [
             0.1111111111111111,
             "#46039f"
            ],
            [
             0.2222222222222222,
             "#7201a8"
            ],
            [
             0.3333333333333333,
             "#9c179e"
            ],
            [
             0.4444444444444444,
             "#bd3786"
            ],
            [
             0.5555555555555556,
             "#d8576b"
            ],
            [
             0.6666666666666666,
             "#ed7953"
            ],
            [
             0.7777777777777778,
             "#fb9f3a"
            ],
            [
             0.8888888888888888,
             "#fdca26"
            ],
            [
             1,
             "#f0f921"
            ]
           ]
          },
          "colorway": [
           "#636efa",
           "#EF553B",
           "#00cc96",
           "#ab63fa",
           "#FFA15A",
           "#19d3f3",
           "#FF6692",
           "#B6E880",
           "#FF97FF",
           "#FECB52"
          ],
          "font": {
           "color": "#2a3f5f"
          },
          "geo": {
           "bgcolor": "white",
           "lakecolor": "white",
           "landcolor": "#E5ECF6",
           "showlakes": true,
           "showland": true,
           "subunitcolor": "white"
          },
          "hoverlabel": {
           "align": "left"
          },
          "hovermode": "closest",
          "mapbox": {
           "style": "light"
          },
          "paper_bgcolor": "white",
          "plot_bgcolor": "#E5ECF6",
          "polar": {
           "angularaxis": {
            "gridcolor": "white",
            "linecolor": "white",
            "ticks": ""
           },
           "bgcolor": "#E5ECF6",
           "radialaxis": {
            "gridcolor": "white",
            "linecolor": "white",
            "ticks": ""
           }
          },
          "scene": {
           "xaxis": {
            "backgroundcolor": "#E5ECF6",
            "gridcolor": "white",
            "gridwidth": 2,
            "linecolor": "white",
            "showbackground": true,
            "ticks": "",
            "zerolinecolor": "white"
           },
           "yaxis": {
            "backgroundcolor": "#E5ECF6",
            "gridcolor": "white",
            "gridwidth": 2,
            "linecolor": "white",
            "showbackground": true,
            "ticks": "",
            "zerolinecolor": "white"
           },
           "zaxis": {
            "backgroundcolor": "#E5ECF6",
            "gridcolor": "white",
            "gridwidth": 2,
            "linecolor": "white",
            "showbackground": true,
            "ticks": "",
            "zerolinecolor": "white"
           }
          },
          "shapedefaults": {
           "line": {
            "color": "#2a3f5f"
           }
          },
          "ternary": {
           "aaxis": {
            "gridcolor": "white",
            "linecolor": "white",
            "ticks": ""
           },
           "baxis": {
            "gridcolor": "white",
            "linecolor": "white",
            "ticks": ""
           },
           "bgcolor": "#E5ECF6",
           "caxis": {
            "gridcolor": "white",
            "linecolor": "white",
            "ticks": ""
           }
          },
          "title": {
           "x": 0.05
          },
          "xaxis": {
           "automargin": true,
           "gridcolor": "white",
           "linecolor": "white",
           "ticks": "",
           "title": {
            "standoff": 15
           },
           "zerolinecolor": "white",
           "zerolinewidth": 2
          },
          "yaxis": {
           "automargin": true,
           "gridcolor": "white",
           "linecolor": "white",
           "ticks": "",
           "title": {
            "standoff": 15
           },
           "zerolinecolor": "white",
           "zerolinewidth": 2
          }
         }
        },
        "title": {
         "text": "Product Categories Count"
        },
        "xaxis": {
         "anchor": "y",
         "domain": [
          0,
          1
         ],
         "title": {
          "text": "Product Category"
         }
        },
        "yaxis": {
         "anchor": "x",
         "domain": [
          0,
          1
         ],
         "title": {
          "text": "Count"
         }
        }
       }
      },
      "text/html": [
       "<div>                            <div id=\"c04d1e2d-fbf4-4cfb-b22d-bbd7defb734a\" class=\"plotly-graph-div\" style=\"height:525px; width:100%;\"></div>            <script type=\"text/javascript\">                require([\"plotly\"], function(Plotly) {                    window.PLOTLYENV=window.PLOTLYENV || {};                                    if (document.getElementById(\"c04d1e2d-fbf4-4cfb-b22d-bbd7defb734a\")) {                    Plotly.newPlot(                        \"c04d1e2d-fbf4-4cfb-b22d-bbd7defb734a\",                        [{\"alignmentgroup\":\"True\",\"hovertemplate\":\"Product Category=%{x}<br>Count=%{y}<extra></extra>\",\"legendgroup\":\"\",\"marker\":{\"color\":\"#636efa\",\"pattern\":{\"shape\":\"\"}},\"name\":\"\",\"offsetgroup\":\"\",\"orientation\":\"v\",\"showlegend\":false,\"textposition\":\"auto\",\"x\":[\"Books\",\"Electronics\",\"Home Decor\",\"Clothing\"],\"xaxis\":\"x\",\"y\":[270,254,248,228],\"yaxis\":\"y\",\"type\":\"bar\"}],                        {\"template\":{\"data\":{\"bar\":[{\"error_x\":{\"color\":\"#2a3f5f\"},\"error_y\":{\"color\":\"#2a3f5f\"},\"marker\":{\"line\":{\"color\":\"#E5ECF6\",\"width\":0.5},\"pattern\":{\"fillmode\":\"overlay\",\"size\":10,\"solidity\":0.2}},\"type\":\"bar\"}],\"barpolar\":[{\"marker\":{\"line\":{\"color\":\"#E5ECF6\",\"width\":0.5},\"pattern\":{\"fillmode\":\"overlay\",\"size\":10,\"solidity\":0.2}},\"type\":\"barpolar\"}],\"carpet\":[{\"aaxis\":{\"endlinecolor\":\"#2a3f5f\",\"gridcolor\":\"white\",\"linecolor\":\"white\",\"minorgridcolor\":\"white\",\"startlinecolor\":\"#2a3f5f\"},\"baxis\":{\"endlinecolor\":\"#2a3f5f\",\"gridcolor\":\"white\",\"linecolor\":\"white\",\"minorgridcolor\":\"white\",\"startlinecolor\":\"#2a3f5f\"},\"type\":\"carpet\"}],\"choropleth\":[{\"colorbar\":{\"outlinewidth\":0,\"ticks\":\"\"},\"type\":\"choropleth\"}],\"contour\":[{\"colorbar\":{\"outlinewidth\":0,\"ticks\":\"\"},\"colorscale\":[[0.0,\"#0d0887\"],[0.1111111111111111,\"#46039f\"],[0.2222222222222222,\"#7201a8\"],[0.3333333333333333,\"#9c179e\"],[0.4444444444444444,\"#bd3786\"],[0.5555555555555556,\"#d8576b\"],[0.6666666666666666,\"#ed7953\"],[0.7777777777777778,\"#fb9f3a\"],[0.8888888888888888,\"#fdca26\"],[1.0,\"#f0f921\"]],\"type\":\"contour\"}],\"contourcarpet\":[{\"colorbar\":{\"outlinewidth\":0,\"ticks\":\"\"},\"type\":\"contourcarpet\"}],\"heatmap\":[{\"colorbar\":{\"outlinewidth\":0,\"ticks\":\"\"},\"colorscale\":[[0.0,\"#0d0887\"],[0.1111111111111111,\"#46039f\"],[0.2222222222222222,\"#7201a8\"],[0.3333333333333333,\"#9c179e\"],[0.4444444444444444,\"#bd3786\"],[0.5555555555555556,\"#d8576b\"],[0.6666666666666666,\"#ed7953\"],[0.7777777777777778,\"#fb9f3a\"],[0.8888888888888888,\"#fdca26\"],[1.0,\"#f0f921\"]],\"type\":\"heatmap\"}],\"heatmapgl\":[{\"colorbar\":{\"outlinewidth\":0,\"ticks\":\"\"},\"colorscale\":[[0.0,\"#0d0887\"],[0.1111111111111111,\"#46039f\"],[0.2222222222222222,\"#7201a8\"],[0.3333333333333333,\"#9c179e\"],[0.4444444444444444,\"#bd3786\"],[0.5555555555555556,\"#d8576b\"],[0.6666666666666666,\"#ed7953\"],[0.7777777777777778,\"#fb9f3a\"],[0.8888888888888888,\"#fdca26\"],[1.0,\"#f0f921\"]],\"type\":\"heatmapgl\"}],\"histogram\":[{\"marker\":{\"pattern\":{\"fillmode\":\"overlay\",\"size\":10,\"solidity\":0.2}},\"type\":\"histogram\"}],\"histogram2d\":[{\"colorbar\":{\"outlinewidth\":0,\"ticks\":\"\"},\"colorscale\":[[0.0,\"#0d0887\"],[0.1111111111111111,\"#46039f\"],[0.2222222222222222,\"#7201a8\"],[0.3333333333333333,\"#9c179e\"],[0.4444444444444444,\"#bd3786\"],[0.5555555555555556,\"#d8576b\"],[0.6666666666666666,\"#ed7953\"],[0.7777777777777778,\"#fb9f3a\"],[0.8888888888888888,\"#fdca26\"],[1.0,\"#f0f921\"]],\"type\":\"histogram2d\"}],\"histogram2dcontour\":[{\"colorbar\":{\"outlinewidth\":0,\"ticks\":\"\"},\"colorscale\":[[0.0,\"#0d0887\"],[0.1111111111111111,\"#46039f\"],[0.2222222222222222,\"#7201a8\"],[0.3333333333333333,\"#9c179e\"],[0.4444444444444444,\"#bd3786\"],[0.5555555555555556,\"#d8576b\"],[0.6666666666666666,\"#ed7953\"],[0.7777777777777778,\"#fb9f3a\"],[0.8888888888888888,\"#fdca26\"],[1.0,\"#f0f921\"]],\"type\":\"histogram2dcontour\"}],\"mesh3d\":[{\"colorbar\":{\"outlinewidth\":0,\"ticks\":\"\"},\"type\":\"mesh3d\"}],\"parcoords\":[{\"line\":{\"colorbar\":{\"outlinewidth\":0,\"ticks\":\"\"}},\"type\":\"parcoords\"}],\"pie\":[{\"automargin\":true,\"type\":\"pie\"}],\"scatter\":[{\"marker\":{\"colorbar\":{\"outlinewidth\":0,\"ticks\":\"\"}},\"type\":\"scatter\"}],\"scatter3d\":[{\"line\":{\"colorbar\":{\"outlinewidth\":0,\"ticks\":\"\"}},\"marker\":{\"colorbar\":{\"outlinewidth\":0,\"ticks\":\"\"}},\"type\":\"scatter3d\"}],\"scattercarpet\":[{\"marker\":{\"colorbar\":{\"outlinewidth\":0,\"ticks\":\"\"}},\"type\":\"scattercarpet\"}],\"scattergeo\":[{\"marker\":{\"colorbar\":{\"outlinewidth\":0,\"ticks\":\"\"}},\"type\":\"scattergeo\"}],\"scattergl\":[{\"marker\":{\"colorbar\":{\"outlinewidth\":0,\"ticks\":\"\"}},\"type\":\"scattergl\"}],\"scattermapbox\":[{\"marker\":{\"colorbar\":{\"outlinewidth\":0,\"ticks\":\"\"}},\"type\":\"scattermapbox\"}],\"scatterpolar\":[{\"marker\":{\"colorbar\":{\"outlinewidth\":0,\"ticks\":\"\"}},\"type\":\"scatterpolar\"}],\"scatterpolargl\":[{\"marker\":{\"colorbar\":{\"outlinewidth\":0,\"ticks\":\"\"}},\"type\":\"scatterpolargl\"}],\"scatterternary\":[{\"marker\":{\"colorbar\":{\"outlinewidth\":0,\"ticks\":\"\"}},\"type\":\"scatterternary\"}],\"surface\":[{\"colorbar\":{\"outlinewidth\":0,\"ticks\":\"\"},\"colorscale\":[[0.0,\"#0d0887\"],[0.1111111111111111,\"#46039f\"],[0.2222222222222222,\"#7201a8\"],[0.3333333333333333,\"#9c179e\"],[0.4444444444444444,\"#bd3786\"],[0.5555555555555556,\"#d8576b\"],[0.6666666666666666,\"#ed7953\"],[0.7777777777777778,\"#fb9f3a\"],[0.8888888888888888,\"#fdca26\"],[1.0,\"#f0f921\"]],\"type\":\"surface\"}],\"table\":[{\"cells\":{\"fill\":{\"color\":\"#EBF0F8\"},\"line\":{\"color\":\"white\"}},\"header\":{\"fill\":{\"color\":\"#C8D4E3\"},\"line\":{\"color\":\"white\"}},\"type\":\"table\"}]},\"layout\":{\"annotationdefaults\":{\"arrowcolor\":\"#2a3f5f\",\"arrowhead\":0,\"arrowwidth\":1},\"autotypenumbers\":\"strict\",\"coloraxis\":{\"colorbar\":{\"outlinewidth\":0,\"ticks\":\"\"}},\"colorscale\":{\"diverging\":[[0,\"#8e0152\"],[0.1,\"#c51b7d\"],[0.2,\"#de77ae\"],[0.3,\"#f1b6da\"],[0.4,\"#fde0ef\"],[0.5,\"#f7f7f7\"],[0.6,\"#e6f5d0\"],[0.7,\"#b8e186\"],[0.8,\"#7fbc41\"],[0.9,\"#4d9221\"],[1,\"#276419\"]],\"sequential\":[[0.0,\"#0d0887\"],[0.1111111111111111,\"#46039f\"],[0.2222222222222222,\"#7201a8\"],[0.3333333333333333,\"#9c179e\"],[0.4444444444444444,\"#bd3786\"],[0.5555555555555556,\"#d8576b\"],[0.6666666666666666,\"#ed7953\"],[0.7777777777777778,\"#fb9f3a\"],[0.8888888888888888,\"#fdca26\"],[1.0,\"#f0f921\"]],\"sequentialminus\":[[0.0,\"#0d0887\"],[0.1111111111111111,\"#46039f\"],[0.2222222222222222,\"#7201a8\"],[0.3333333333333333,\"#9c179e\"],[0.4444444444444444,\"#bd3786\"],[0.5555555555555556,\"#d8576b\"],[0.6666666666666666,\"#ed7953\"],[0.7777777777777778,\"#fb9f3a\"],[0.8888888888888888,\"#fdca26\"],[1.0,\"#f0f921\"]]},\"colorway\":[\"#636efa\",\"#EF553B\",\"#00cc96\",\"#ab63fa\",\"#FFA15A\",\"#19d3f3\",\"#FF6692\",\"#B6E880\",\"#FF97FF\",\"#FECB52\"],\"font\":{\"color\":\"#2a3f5f\"},\"geo\":{\"bgcolor\":\"white\",\"lakecolor\":\"white\",\"landcolor\":\"#E5ECF6\",\"showlakes\":true,\"showland\":true,\"subunitcolor\":\"white\"},\"hoverlabel\":{\"align\":\"left\"},\"hovermode\":\"closest\",\"mapbox\":{\"style\":\"light\"},\"paper_bgcolor\":\"white\",\"plot_bgcolor\":\"#E5ECF6\",\"polar\":{\"angularaxis\":{\"gridcolor\":\"white\",\"linecolor\":\"white\",\"ticks\":\"\"},\"bgcolor\":\"#E5ECF6\",\"radialaxis\":{\"gridcolor\":\"white\",\"linecolor\":\"white\",\"ticks\":\"\"}},\"scene\":{\"xaxis\":{\"backgroundcolor\":\"#E5ECF6\",\"gridcolor\":\"white\",\"gridwidth\":2,\"linecolor\":\"white\",\"showbackground\":true,\"ticks\":\"\",\"zerolinecolor\":\"white\"},\"yaxis\":{\"backgroundcolor\":\"#E5ECF6\",\"gridcolor\":\"white\",\"gridwidth\":2,\"linecolor\":\"white\",\"showbackground\":true,\"ticks\":\"\",\"zerolinecolor\":\"white\"},\"zaxis\":{\"backgroundcolor\":\"#E5ECF6\",\"gridcolor\":\"white\",\"gridwidth\":2,\"linecolor\":\"white\",\"showbackground\":true,\"ticks\":\"\",\"zerolinecolor\":\"white\"}},\"shapedefaults\":{\"line\":{\"color\":\"#2a3f5f\"}},\"ternary\":{\"aaxis\":{\"gridcolor\":\"white\",\"linecolor\":\"white\",\"ticks\":\"\"},\"baxis\":{\"gridcolor\":\"white\",\"linecolor\":\"white\",\"ticks\":\"\"},\"bgcolor\":\"#E5ECF6\",\"caxis\":{\"gridcolor\":\"white\",\"linecolor\":\"white\",\"ticks\":\"\"}},\"title\":{\"x\":0.05},\"xaxis\":{\"automargin\":true,\"gridcolor\":\"white\",\"linecolor\":\"white\",\"ticks\":\"\",\"title\":{\"standoff\":15},\"zerolinecolor\":\"white\",\"zerolinewidth\":2},\"yaxis\":{\"automargin\":true,\"gridcolor\":\"white\",\"linecolor\":\"white\",\"ticks\":\"\",\"title\":{\"standoff\":15},\"zerolinecolor\":\"white\",\"zerolinewidth\":2}}},\"xaxis\":{\"anchor\":\"y\",\"domain\":[0.0,1.0],\"title\":{\"text\":\"Product Category\"}},\"yaxis\":{\"anchor\":\"x\",\"domain\":[0.0,1.0],\"title\":{\"text\":\"Count\"}},\"legend\":{\"tracegroupgap\":0},\"title\":{\"text\":\"Product Categories Count\"},\"barmode\":\"relative\"},                        {\"responsive\": true}                    ).then(function(){\n",
       "                            \n",
       "var gd = document.getElementById('c04d1e2d-fbf4-4cfb-b22d-bbd7defb734a');\n",
       "var x = new MutationObserver(function (mutations, observer) {{\n",
       "        var display = window.getComputedStyle(gd).display;\n",
       "        if (!display || display === 'none') {{\n",
       "            console.log([gd, 'removed!']);\n",
       "            Plotly.purge(gd);\n",
       "            observer.disconnect();\n",
       "        }}\n",
       "}});\n",
       "\n",
       "// Listen for the removal of the full notebook cells\n",
       "var notebookContainer = gd.closest('#notebook-container');\n",
       "if (notebookContainer) {{\n",
       "    x.observe(notebookContainer, {childList: true});\n",
       "}}\n",
       "\n",
       "// Listen for the clearing of the current output cell\n",
       "var outputEl = gd.closest('.output');\n",
       "if (outputEl) {{\n",
       "    x.observe(outputEl, {childList: true});\n",
       "}}\n",
       "\n",
       "                        })                };                });            </script>        </div>"
      ]
     },
     "metadata": {},
     "output_type": "display_data"
    },
    {
     "data": {
      "application/vnd.plotly.v1+json": {
       "config": {
        "plotlyServerURL": "https://plot.ly"
       },
       "data": [
        {
         "hovertemplate": "Signup Month=%{x}<br>Number of Signups=%{y}<extra></extra>",
         "legendgroup": "",
         "line": {
          "color": "#636efa",
          "dash": "solid"
         },
         "marker": {
          "symbol": "circle"
         },
         "mode": "lines",
         "name": "",
         "orientation": "v",
         "showlegend": false,
         "type": "scatter",
         "x": [
          "2022-01",
          "2022-02",
          "2022-03",
          "2022-04",
          "2022-05",
          "2022-06",
          "2022-07",
          "2022-08",
          "2022-09",
          "2022-10",
          "2022-11",
          "2022-12",
          "2023-01",
          "2023-02",
          "2023-03",
          "2023-04",
          "2023-05",
          "2023-06",
          "2023-07",
          "2023-08",
          "2023-09",
          "2023-10",
          "2023-11",
          "2023-12",
          "2024-01",
          "2024-02",
          "2024-03",
          "2024-04",
          "2024-05",
          "2024-06",
          "2024-07",
          "2024-08",
          "2024-09",
          "2024-10",
          "2024-11",
          "2024-12"
         ],
         "xaxis": "x",
         "y": [
          6,
          34,
          46,
          42,
          57,
          24,
          15,
          13,
          30,
          22,
          14,
          29,
          30,
          30,
          34,
          32,
          16,
          16,
          12,
          14,
          23,
          27,
          19,
          28,
          43,
          35,
          20,
          48,
          34,
          14,
          36,
          20,
          58,
          31,
          43,
          5
         ],
         "yaxis": "y"
        }
       ],
       "layout": {
        "legend": {
         "tracegroupgap": 0
        },
        "template": {
         "data": {
          "bar": [
           {
            "error_x": {
             "color": "#2a3f5f"
            },
            "error_y": {
             "color": "#2a3f5f"
            },
            "marker": {
             "line": {
              "color": "#E5ECF6",
              "width": 0.5
             },
             "pattern": {
              "fillmode": "overlay",
              "size": 10,
              "solidity": 0.2
             }
            },
            "type": "bar"
           }
          ],
          "barpolar": [
           {
            "marker": {
             "line": {
              "color": "#E5ECF6",
              "width": 0.5
             },
             "pattern": {
              "fillmode": "overlay",
              "size": 10,
              "solidity": 0.2
             }
            },
            "type": "barpolar"
           }
          ],
          "carpet": [
           {
            "aaxis": {
             "endlinecolor": "#2a3f5f",
             "gridcolor": "white",
             "linecolor": "white",
             "minorgridcolor": "white",
             "startlinecolor": "#2a3f5f"
            },
            "baxis": {
             "endlinecolor": "#2a3f5f",
             "gridcolor": "white",
             "linecolor": "white",
             "minorgridcolor": "white",
             "startlinecolor": "#2a3f5f"
            },
            "type": "carpet"
           }
          ],
          "choropleth": [
           {
            "colorbar": {
             "outlinewidth": 0,
             "ticks": ""
            },
            "type": "choropleth"
           }
          ],
          "contour": [
           {
            "colorbar": {
             "outlinewidth": 0,
             "ticks": ""
            },
            "colorscale": [
             [
              0,
              "#0d0887"
             ],
             [
              0.1111111111111111,
              "#46039f"
             ],
             [
              0.2222222222222222,
              "#7201a8"
             ],
             [
              0.3333333333333333,
              "#9c179e"
             ],
             [
              0.4444444444444444,
              "#bd3786"
             ],
             [
              0.5555555555555556,
              "#d8576b"
             ],
             [
              0.6666666666666666,
              "#ed7953"
             ],
             [
              0.7777777777777778,
              "#fb9f3a"
             ],
             [
              0.8888888888888888,
              "#fdca26"
             ],
             [
              1,
              "#f0f921"
             ]
            ],
            "type": "contour"
           }
          ],
          "contourcarpet": [
           {
            "colorbar": {
             "outlinewidth": 0,
             "ticks": ""
            },
            "type": "contourcarpet"
           }
          ],
          "heatmap": [
           {
            "colorbar": {
             "outlinewidth": 0,
             "ticks": ""
            },
            "colorscale": [
             [
              0,
              "#0d0887"
             ],
             [
              0.1111111111111111,
              "#46039f"
             ],
             [
              0.2222222222222222,
              "#7201a8"
             ],
             [
              0.3333333333333333,
              "#9c179e"
             ],
             [
              0.4444444444444444,
              "#bd3786"
             ],
             [
              0.5555555555555556,
              "#d8576b"
             ],
             [
              0.6666666666666666,
              "#ed7953"
             ],
             [
              0.7777777777777778,
              "#fb9f3a"
             ],
             [
              0.8888888888888888,
              "#fdca26"
             ],
             [
              1,
              "#f0f921"
             ]
            ],
            "type": "heatmap"
           }
          ],
          "heatmapgl": [
           {
            "colorbar": {
             "outlinewidth": 0,
             "ticks": ""
            },
            "colorscale": [
             [
              0,
              "#0d0887"
             ],
             [
              0.1111111111111111,
              "#46039f"
             ],
             [
              0.2222222222222222,
              "#7201a8"
             ],
             [
              0.3333333333333333,
              "#9c179e"
             ],
             [
              0.4444444444444444,
              "#bd3786"
             ],
             [
              0.5555555555555556,
              "#d8576b"
             ],
             [
              0.6666666666666666,
              "#ed7953"
             ],
             [
              0.7777777777777778,
              "#fb9f3a"
             ],
             [
              0.8888888888888888,
              "#fdca26"
             ],
             [
              1,
              "#f0f921"
             ]
            ],
            "type": "heatmapgl"
           }
          ],
          "histogram": [
           {
            "marker": {
             "pattern": {
              "fillmode": "overlay",
              "size": 10,
              "solidity": 0.2
             }
            },
            "type": "histogram"
           }
          ],
          "histogram2d": [
           {
            "colorbar": {
             "outlinewidth": 0,
             "ticks": ""
            },
            "colorscale": [
             [
              0,
              "#0d0887"
             ],
             [
              0.1111111111111111,
              "#46039f"
             ],
             [
              0.2222222222222222,
              "#7201a8"
             ],
             [
              0.3333333333333333,
              "#9c179e"
             ],
             [
              0.4444444444444444,
              "#bd3786"
             ],
             [
              0.5555555555555556,
              "#d8576b"
             ],
             [
              0.6666666666666666,
              "#ed7953"
             ],
             [
              0.7777777777777778,
              "#fb9f3a"
             ],
             [
              0.8888888888888888,
              "#fdca26"
             ],
             [
              1,
              "#f0f921"
             ]
            ],
            "type": "histogram2d"
           }
          ],
          "histogram2dcontour": [
           {
            "colorbar": {
             "outlinewidth": 0,
             "ticks": ""
            },
            "colorscale": [
             [
              0,
              "#0d0887"
             ],
             [
              0.1111111111111111,
              "#46039f"
             ],
             [
              0.2222222222222222,
              "#7201a8"
             ],
             [
              0.3333333333333333,
              "#9c179e"
             ],
             [
              0.4444444444444444,
              "#bd3786"
             ],
             [
              0.5555555555555556,
              "#d8576b"
             ],
             [
              0.6666666666666666,
              "#ed7953"
             ],
             [
              0.7777777777777778,
              "#fb9f3a"
             ],
             [
              0.8888888888888888,
              "#fdca26"
             ],
             [
              1,
              "#f0f921"
             ]
            ],
            "type": "histogram2dcontour"
           }
          ],
          "mesh3d": [
           {
            "colorbar": {
             "outlinewidth": 0,
             "ticks": ""
            },
            "type": "mesh3d"
           }
          ],
          "parcoords": [
           {
            "line": {
             "colorbar": {
              "outlinewidth": 0,
              "ticks": ""
             }
            },
            "type": "parcoords"
           }
          ],
          "pie": [
           {
            "automargin": true,
            "type": "pie"
           }
          ],
          "scatter": [
           {
            "marker": {
             "colorbar": {
              "outlinewidth": 0,
              "ticks": ""
             }
            },
            "type": "scatter"
           }
          ],
          "scatter3d": [
           {
            "line": {
             "colorbar": {
              "outlinewidth": 0,
              "ticks": ""
             }
            },
            "marker": {
             "colorbar": {
              "outlinewidth": 0,
              "ticks": ""
             }
            },
            "type": "scatter3d"
           }
          ],
          "scattercarpet": [
           {
            "marker": {
             "colorbar": {
              "outlinewidth": 0,
              "ticks": ""
             }
            },
            "type": "scattercarpet"
           }
          ],
          "scattergeo": [
           {
            "marker": {
             "colorbar": {
              "outlinewidth": 0,
              "ticks": ""
             }
            },
            "type": "scattergeo"
           }
          ],
          "scattergl": [
           {
            "marker": {
             "colorbar": {
              "outlinewidth": 0,
              "ticks": ""
             }
            },
            "type": "scattergl"
           }
          ],
          "scattermapbox": [
           {
            "marker": {
             "colorbar": {
              "outlinewidth": 0,
              "ticks": ""
             }
            },
            "type": "scattermapbox"
           }
          ],
          "scatterpolar": [
           {
            "marker": {
             "colorbar": {
              "outlinewidth": 0,
              "ticks": ""
             }
            },
            "type": "scatterpolar"
           }
          ],
          "scatterpolargl": [
           {
            "marker": {
             "colorbar": {
              "outlinewidth": 0,
              "ticks": ""
             }
            },
            "type": "scatterpolargl"
           }
          ],
          "scatterternary": [
           {
            "marker": {
             "colorbar": {
              "outlinewidth": 0,
              "ticks": ""
             }
            },
            "type": "scatterternary"
           }
          ],
          "surface": [
           {
            "colorbar": {
             "outlinewidth": 0,
             "ticks": ""
            },
            "colorscale": [
             [
              0,
              "#0d0887"
             ],
             [
              0.1111111111111111,
              "#46039f"
             ],
             [
              0.2222222222222222,
              "#7201a8"
             ],
             [
              0.3333333333333333,
              "#9c179e"
             ],
             [
              0.4444444444444444,
              "#bd3786"
             ],
             [
              0.5555555555555556,
              "#d8576b"
             ],
             [
              0.6666666666666666,
              "#ed7953"
             ],
             [
              0.7777777777777778,
              "#fb9f3a"
             ],
             [
              0.8888888888888888,
              "#fdca26"
             ],
             [
              1,
              "#f0f921"
             ]
            ],
            "type": "surface"
           }
          ],
          "table": [
           {
            "cells": {
             "fill": {
              "color": "#EBF0F8"
             },
             "line": {
              "color": "white"
             }
            },
            "header": {
             "fill": {
              "color": "#C8D4E3"
             },
             "line": {
              "color": "white"
             }
            },
            "type": "table"
           }
          ]
         },
         "layout": {
          "annotationdefaults": {
           "arrowcolor": "#2a3f5f",
           "arrowhead": 0,
           "arrowwidth": 1
          },
          "autotypenumbers": "strict",
          "coloraxis": {
           "colorbar": {
            "outlinewidth": 0,
            "ticks": ""
           }
          },
          "colorscale": {
           "diverging": [
            [
             0,
             "#8e0152"
            ],
            [
             0.1,
             "#c51b7d"
            ],
            [
             0.2,
             "#de77ae"
            ],
            [
             0.3,
             "#f1b6da"
            ],
            [
             0.4,
             "#fde0ef"
            ],
            [
             0.5,
             "#f7f7f7"
            ],
            [
             0.6,
             "#e6f5d0"
            ],
            [
             0.7,
             "#b8e186"
            ],
            [
             0.8,
             "#7fbc41"
            ],
            [
             0.9,
             "#4d9221"
            ],
            [
             1,
             "#276419"
            ]
           ],
           "sequential": [
            [
             0,
             "#0d0887"
            ],
            [
             0.1111111111111111,
             "#46039f"
            ],
            [
             0.2222222222222222,
             "#7201a8"
            ],
            [
             0.3333333333333333,
             "#9c179e"
            ],
            [
             0.4444444444444444,
             "#bd3786"
            ],
            [
             0.5555555555555556,
             "#d8576b"
            ],
            [
             0.6666666666666666,
             "#ed7953"
            ],
            [
             0.7777777777777778,
             "#fb9f3a"
            ],
            [
             0.8888888888888888,
             "#fdca26"
            ],
            [
             1,
             "#f0f921"
            ]
           ],
           "sequentialminus": [
            [
             0,
             "#0d0887"
            ],
            [
             0.1111111111111111,
             "#46039f"
            ],
            [
             0.2222222222222222,
             "#7201a8"
            ],
            [
             0.3333333333333333,
             "#9c179e"
            ],
            [
             0.4444444444444444,
             "#bd3786"
            ],
            [
             0.5555555555555556,
             "#d8576b"
            ],
            [
             0.6666666666666666,
             "#ed7953"
            ],
            [
             0.7777777777777778,
             "#fb9f3a"
            ],
            [
             0.8888888888888888,
             "#fdca26"
            ],
            [
             1,
             "#f0f921"
            ]
           ]
          },
          "colorway": [
           "#636efa",
           "#EF553B",
           "#00cc96",
           "#ab63fa",
           "#FFA15A",
           "#19d3f3",
           "#FF6692",
           "#B6E880",
           "#FF97FF",
           "#FECB52"
          ],
          "font": {
           "color": "#2a3f5f"
          },
          "geo": {
           "bgcolor": "white",
           "lakecolor": "white",
           "landcolor": "#E5ECF6",
           "showlakes": true,
           "showland": true,
           "subunitcolor": "white"
          },
          "hoverlabel": {
           "align": "left"
          },
          "hovermode": "closest",
          "mapbox": {
           "style": "light"
          },
          "paper_bgcolor": "white",
          "plot_bgcolor": "#E5ECF6",
          "polar": {
           "angularaxis": {
            "gridcolor": "white",
            "linecolor": "white",
            "ticks": ""
           },
           "bgcolor": "#E5ECF6",
           "radialaxis": {
            "gridcolor": "white",
            "linecolor": "white",
            "ticks": ""
           }
          },
          "scene": {
           "xaxis": {
            "backgroundcolor": "#E5ECF6",
            "gridcolor": "white",
            "gridwidth": 2,
            "linecolor": "white",
            "showbackground": true,
            "ticks": "",
            "zerolinecolor": "white"
           },
           "yaxis": {
            "backgroundcolor": "#E5ECF6",
            "gridcolor": "white",
            "gridwidth": 2,
            "linecolor": "white",
            "showbackground": true,
            "ticks": "",
            "zerolinecolor": "white"
           },
           "zaxis": {
            "backgroundcolor": "#E5ECF6",
            "gridcolor": "white",
            "gridwidth": 2,
            "linecolor": "white",
            "showbackground": true,
            "ticks": "",
            "zerolinecolor": "white"
           }
          },
          "shapedefaults": {
           "line": {
            "color": "#2a3f5f"
           }
          },
          "ternary": {
           "aaxis": {
            "gridcolor": "white",
            "linecolor": "white",
            "ticks": ""
           },
           "baxis": {
            "gridcolor": "white",
            "linecolor": "white",
            "ticks": ""
           },
           "bgcolor": "#E5ECF6",
           "caxis": {
            "gridcolor": "white",
            "linecolor": "white",
            "ticks": ""
           }
          },
          "title": {
           "x": 0.05
          },
          "xaxis": {
           "automargin": true,
           "gridcolor": "white",
           "linecolor": "white",
           "ticks": "",
           "title": {
            "standoff": 15
           },
           "zerolinecolor": "white",
           "zerolinewidth": 2
          },
          "yaxis": {
           "automargin": true,
           "gridcolor": "white",
           "linecolor": "white",
           "ticks": "",
           "title": {
            "standoff": 15
           },
           "zerolinecolor": "white",
           "zerolinewidth": 2
          }
         }
        },
        "title": {
         "text": "Customer Signup Trends Over Time"
        },
        "xaxis": {
         "anchor": "y",
         "domain": [
          0,
          1
         ],
         "title": {
          "text": "Signup Month"
         }
        },
        "yaxis": {
         "anchor": "x",
         "domain": [
          0,
          1
         ],
         "title": {
          "text": "Number of Signups"
         }
        }
       }
      },
      "text/html": [
       "<div>                            <div id=\"ee3991bc-52d7-4d8d-bf5f-8dc3e44819cb\" class=\"plotly-graph-div\" style=\"height:525px; width:100%;\"></div>            <script type=\"text/javascript\">                require([\"plotly\"], function(Plotly) {                    window.PLOTLYENV=window.PLOTLYENV || {};                                    if (document.getElementById(\"ee3991bc-52d7-4d8d-bf5f-8dc3e44819cb\")) {                    Plotly.newPlot(                        \"ee3991bc-52d7-4d8d-bf5f-8dc3e44819cb\",                        [{\"hovertemplate\":\"Signup Month=%{x}<br>Number of Signups=%{y}<extra></extra>\",\"legendgroup\":\"\",\"line\":{\"color\":\"#636efa\",\"dash\":\"solid\"},\"marker\":{\"symbol\":\"circle\"},\"mode\":\"lines\",\"name\":\"\",\"orientation\":\"v\",\"showlegend\":false,\"x\":[\"2022-01\",\"2022-02\",\"2022-03\",\"2022-04\",\"2022-05\",\"2022-06\",\"2022-07\",\"2022-08\",\"2022-09\",\"2022-10\",\"2022-11\",\"2022-12\",\"2023-01\",\"2023-02\",\"2023-03\",\"2023-04\",\"2023-05\",\"2023-06\",\"2023-07\",\"2023-08\",\"2023-09\",\"2023-10\",\"2023-11\",\"2023-12\",\"2024-01\",\"2024-02\",\"2024-03\",\"2024-04\",\"2024-05\",\"2024-06\",\"2024-07\",\"2024-08\",\"2024-09\",\"2024-10\",\"2024-11\",\"2024-12\"],\"xaxis\":\"x\",\"y\":[6,34,46,42,57,24,15,13,30,22,14,29,30,30,34,32,16,16,12,14,23,27,19,28,43,35,20,48,34,14,36,20,58,31,43,5],\"yaxis\":\"y\",\"type\":\"scatter\"}],                        {\"template\":{\"data\":{\"bar\":[{\"error_x\":{\"color\":\"#2a3f5f\"},\"error_y\":{\"color\":\"#2a3f5f\"},\"marker\":{\"line\":{\"color\":\"#E5ECF6\",\"width\":0.5},\"pattern\":{\"fillmode\":\"overlay\",\"size\":10,\"solidity\":0.2}},\"type\":\"bar\"}],\"barpolar\":[{\"marker\":{\"line\":{\"color\":\"#E5ECF6\",\"width\":0.5},\"pattern\":{\"fillmode\":\"overlay\",\"size\":10,\"solidity\":0.2}},\"type\":\"barpolar\"}],\"carpet\":[{\"aaxis\":{\"endlinecolor\":\"#2a3f5f\",\"gridcolor\":\"white\",\"linecolor\":\"white\",\"minorgridcolor\":\"white\",\"startlinecolor\":\"#2a3f5f\"},\"baxis\":{\"endlinecolor\":\"#2a3f5f\",\"gridcolor\":\"white\",\"linecolor\":\"white\",\"minorgridcolor\":\"white\",\"startlinecolor\":\"#2a3f5f\"},\"type\":\"carpet\"}],\"choropleth\":[{\"colorbar\":{\"outlinewidth\":0,\"ticks\":\"\"},\"type\":\"choropleth\"}],\"contour\":[{\"colorbar\":{\"outlinewidth\":0,\"ticks\":\"\"},\"colorscale\":[[0.0,\"#0d0887\"],[0.1111111111111111,\"#46039f\"],[0.2222222222222222,\"#7201a8\"],[0.3333333333333333,\"#9c179e\"],[0.4444444444444444,\"#bd3786\"],[0.5555555555555556,\"#d8576b\"],[0.6666666666666666,\"#ed7953\"],[0.7777777777777778,\"#fb9f3a\"],[0.8888888888888888,\"#fdca26\"],[1.0,\"#f0f921\"]],\"type\":\"contour\"}],\"contourcarpet\":[{\"colorbar\":{\"outlinewidth\":0,\"ticks\":\"\"},\"type\":\"contourcarpet\"}],\"heatmap\":[{\"colorbar\":{\"outlinewidth\":0,\"ticks\":\"\"},\"colorscale\":[[0.0,\"#0d0887\"],[0.1111111111111111,\"#46039f\"],[0.2222222222222222,\"#7201a8\"],[0.3333333333333333,\"#9c179e\"],[0.4444444444444444,\"#bd3786\"],[0.5555555555555556,\"#d8576b\"],[0.6666666666666666,\"#ed7953\"],[0.7777777777777778,\"#fb9f3a\"],[0.8888888888888888,\"#fdca26\"],[1.0,\"#f0f921\"]],\"type\":\"heatmap\"}],\"heatmapgl\":[{\"colorbar\":{\"outlinewidth\":0,\"ticks\":\"\"},\"colorscale\":[[0.0,\"#0d0887\"],[0.1111111111111111,\"#46039f\"],[0.2222222222222222,\"#7201a8\"],[0.3333333333333333,\"#9c179e\"],[0.4444444444444444,\"#bd3786\"],[0.5555555555555556,\"#d8576b\"],[0.6666666666666666,\"#ed7953\"],[0.7777777777777778,\"#fb9f3a\"],[0.8888888888888888,\"#fdca26\"],[1.0,\"#f0f921\"]],\"type\":\"heatmapgl\"}],\"histogram\":[{\"marker\":{\"pattern\":{\"fillmode\":\"overlay\",\"size\":10,\"solidity\":0.2}},\"type\":\"histogram\"}],\"histogram2d\":[{\"colorbar\":{\"outlinewidth\":0,\"ticks\":\"\"},\"colorscale\":[[0.0,\"#0d0887\"],[0.1111111111111111,\"#46039f\"],[0.2222222222222222,\"#7201a8\"],[0.3333333333333333,\"#9c179e\"],[0.4444444444444444,\"#bd3786\"],[0.5555555555555556,\"#d8576b\"],[0.6666666666666666,\"#ed7953\"],[0.7777777777777778,\"#fb9f3a\"],[0.8888888888888888,\"#fdca26\"],[1.0,\"#f0f921\"]],\"type\":\"histogram2d\"}],\"histogram2dcontour\":[{\"colorbar\":{\"outlinewidth\":0,\"ticks\":\"\"},\"colorscale\":[[0.0,\"#0d0887\"],[0.1111111111111111,\"#46039f\"],[0.2222222222222222,\"#7201a8\"],[0.3333333333333333,\"#9c179e\"],[0.4444444444444444,\"#bd3786\"],[0.5555555555555556,\"#d8576b\"],[0.6666666666666666,\"#ed7953\"],[0.7777777777777778,\"#fb9f3a\"],[0.8888888888888888,\"#fdca26\"],[1.0,\"#f0f921\"]],\"type\":\"histogram2dcontour\"}],\"mesh3d\":[{\"colorbar\":{\"outlinewidth\":0,\"ticks\":\"\"},\"type\":\"mesh3d\"}],\"parcoords\":[{\"line\":{\"colorbar\":{\"outlinewidth\":0,\"ticks\":\"\"}},\"type\":\"parcoords\"}],\"pie\":[{\"automargin\":true,\"type\":\"pie\"}],\"scatter\":[{\"marker\":{\"colorbar\":{\"outlinewidth\":0,\"ticks\":\"\"}},\"type\":\"scatter\"}],\"scatter3d\":[{\"line\":{\"colorbar\":{\"outlinewidth\":0,\"ticks\":\"\"}},\"marker\":{\"colorbar\":{\"outlinewidth\":0,\"ticks\":\"\"}},\"type\":\"scatter3d\"}],\"scattercarpet\":[{\"marker\":{\"colorbar\":{\"outlinewidth\":0,\"ticks\":\"\"}},\"type\":\"scattercarpet\"}],\"scattergeo\":[{\"marker\":{\"colorbar\":{\"outlinewidth\":0,\"ticks\":\"\"}},\"type\":\"scattergeo\"}],\"scattergl\":[{\"marker\":{\"colorbar\":{\"outlinewidth\":0,\"ticks\":\"\"}},\"type\":\"scattergl\"}],\"scattermapbox\":[{\"marker\":{\"colorbar\":{\"outlinewidth\":0,\"ticks\":\"\"}},\"type\":\"scattermapbox\"}],\"scatterpolar\":[{\"marker\":{\"colorbar\":{\"outlinewidth\":0,\"ticks\":\"\"}},\"type\":\"scatterpolar\"}],\"scatterpolargl\":[{\"marker\":{\"colorbar\":{\"outlinewidth\":0,\"ticks\":\"\"}},\"type\":\"scatterpolargl\"}],\"scatterternary\":[{\"marker\":{\"colorbar\":{\"outlinewidth\":0,\"ticks\":\"\"}},\"type\":\"scatterternary\"}],\"surface\":[{\"colorbar\":{\"outlinewidth\":0,\"ticks\":\"\"},\"colorscale\":[[0.0,\"#0d0887\"],[0.1111111111111111,\"#46039f\"],[0.2222222222222222,\"#7201a8\"],[0.3333333333333333,\"#9c179e\"],[0.4444444444444444,\"#bd3786\"],[0.5555555555555556,\"#d8576b\"],[0.6666666666666666,\"#ed7953\"],[0.7777777777777778,\"#fb9f3a\"],[0.8888888888888888,\"#fdca26\"],[1.0,\"#f0f921\"]],\"type\":\"surface\"}],\"table\":[{\"cells\":{\"fill\":{\"color\":\"#EBF0F8\"},\"line\":{\"color\":\"white\"}},\"header\":{\"fill\":{\"color\":\"#C8D4E3\"},\"line\":{\"color\":\"white\"}},\"type\":\"table\"}]},\"layout\":{\"annotationdefaults\":{\"arrowcolor\":\"#2a3f5f\",\"arrowhead\":0,\"arrowwidth\":1},\"autotypenumbers\":\"strict\",\"coloraxis\":{\"colorbar\":{\"outlinewidth\":0,\"ticks\":\"\"}},\"colorscale\":{\"diverging\":[[0,\"#8e0152\"],[0.1,\"#c51b7d\"],[0.2,\"#de77ae\"],[0.3,\"#f1b6da\"],[0.4,\"#fde0ef\"],[0.5,\"#f7f7f7\"],[0.6,\"#e6f5d0\"],[0.7,\"#b8e186\"],[0.8,\"#7fbc41\"],[0.9,\"#4d9221\"],[1,\"#276419\"]],\"sequential\":[[0.0,\"#0d0887\"],[0.1111111111111111,\"#46039f\"],[0.2222222222222222,\"#7201a8\"],[0.3333333333333333,\"#9c179e\"],[0.4444444444444444,\"#bd3786\"],[0.5555555555555556,\"#d8576b\"],[0.6666666666666666,\"#ed7953\"],[0.7777777777777778,\"#fb9f3a\"],[0.8888888888888888,\"#fdca26\"],[1.0,\"#f0f921\"]],\"sequentialminus\":[[0.0,\"#0d0887\"],[0.1111111111111111,\"#46039f\"],[0.2222222222222222,\"#7201a8\"],[0.3333333333333333,\"#9c179e\"],[0.4444444444444444,\"#bd3786\"],[0.5555555555555556,\"#d8576b\"],[0.6666666666666666,\"#ed7953\"],[0.7777777777777778,\"#fb9f3a\"],[0.8888888888888888,\"#fdca26\"],[1.0,\"#f0f921\"]]},\"colorway\":[\"#636efa\",\"#EF553B\",\"#00cc96\",\"#ab63fa\",\"#FFA15A\",\"#19d3f3\",\"#FF6692\",\"#B6E880\",\"#FF97FF\",\"#FECB52\"],\"font\":{\"color\":\"#2a3f5f\"},\"geo\":{\"bgcolor\":\"white\",\"lakecolor\":\"white\",\"landcolor\":\"#E5ECF6\",\"showlakes\":true,\"showland\":true,\"subunitcolor\":\"white\"},\"hoverlabel\":{\"align\":\"left\"},\"hovermode\":\"closest\",\"mapbox\":{\"style\":\"light\"},\"paper_bgcolor\":\"white\",\"plot_bgcolor\":\"#E5ECF6\",\"polar\":{\"angularaxis\":{\"gridcolor\":\"white\",\"linecolor\":\"white\",\"ticks\":\"\"},\"bgcolor\":\"#E5ECF6\",\"radialaxis\":{\"gridcolor\":\"white\",\"linecolor\":\"white\",\"ticks\":\"\"}},\"scene\":{\"xaxis\":{\"backgroundcolor\":\"#E5ECF6\",\"gridcolor\":\"white\",\"gridwidth\":2,\"linecolor\":\"white\",\"showbackground\":true,\"ticks\":\"\",\"zerolinecolor\":\"white\"},\"yaxis\":{\"backgroundcolor\":\"#E5ECF6\",\"gridcolor\":\"white\",\"gridwidth\":2,\"linecolor\":\"white\",\"showbackground\":true,\"ticks\":\"\",\"zerolinecolor\":\"white\"},\"zaxis\":{\"backgroundcolor\":\"#E5ECF6\",\"gridcolor\":\"white\",\"gridwidth\":2,\"linecolor\":\"white\",\"showbackground\":true,\"ticks\":\"\",\"zerolinecolor\":\"white\"}},\"shapedefaults\":{\"line\":{\"color\":\"#2a3f5f\"}},\"ternary\":{\"aaxis\":{\"gridcolor\":\"white\",\"linecolor\":\"white\",\"ticks\":\"\"},\"baxis\":{\"gridcolor\":\"white\",\"linecolor\":\"white\",\"ticks\":\"\"},\"bgcolor\":\"#E5ECF6\",\"caxis\":{\"gridcolor\":\"white\",\"linecolor\":\"white\",\"ticks\":\"\"}},\"title\":{\"x\":0.05},\"xaxis\":{\"automargin\":true,\"gridcolor\":\"white\",\"linecolor\":\"white\",\"ticks\":\"\",\"title\":{\"standoff\":15},\"zerolinecolor\":\"white\",\"zerolinewidth\":2},\"yaxis\":{\"automargin\":true,\"gridcolor\":\"white\",\"linecolor\":\"white\",\"ticks\":\"\",\"title\":{\"standoff\":15},\"zerolinecolor\":\"white\",\"zerolinewidth\":2}}},\"xaxis\":{\"anchor\":\"y\",\"domain\":[0.0,1.0],\"title\":{\"text\":\"Signup Month\"}},\"yaxis\":{\"anchor\":\"x\",\"domain\":[0.0,1.0],\"title\":{\"text\":\"Number of Signups\"}},\"legend\":{\"tracegroupgap\":0},\"title\":{\"text\":\"Customer Signup Trends Over Time\"}},                        {\"responsive\": true}                    ).then(function(){\n",
       "                            \n",
       "var gd = document.getElementById('ee3991bc-52d7-4d8d-bf5f-8dc3e44819cb');\n",
       "var x = new MutationObserver(function (mutations, observer) {{\n",
       "        var display = window.getComputedStyle(gd).display;\n",
       "        if (!display || display === 'none') {{\n",
       "            console.log([gd, 'removed!']);\n",
       "            Plotly.purge(gd);\n",
       "            observer.disconnect();\n",
       "        }}\n",
       "}});\n",
       "\n",
       "// Listen for the removal of the full notebook cells\n",
       "var notebookContainer = gd.closest('#notebook-container');\n",
       "if (notebookContainer) {{\n",
       "    x.observe(notebookContainer, {childList: true});\n",
       "}}\n",
       "\n",
       "// Listen for the clearing of the current output cell\n",
       "var outputEl = gd.closest('.output');\n",
       "if (outputEl) {{\n",
       "    x.observe(outputEl, {childList: true});\n",
       "}}\n",
       "\n",
       "                        })                };                });            </script>        </div>"
      ]
     },
     "metadata": {},
     "output_type": "display_data"
    }
   ],
   "source": [
    "data[\"SignupDate\"] = pd.to_datetime(data[\"SignupDate\"])\n",
    "\n",
    "fig1 = px.box(data, x=\"Region\", y=\"TotalValue\", \n",
    "              title=\"Total Transaction Value by Region\",\n",
    "              labels={\"Region\": \"Region\", \"TotalValue\": \"Transaction Value\"})\n",
    "fig1.show()\n",
    "category_count = data[\"Category\"].value_counts().reset_index()\n",
    "category_count.columns = [\"Category\", \"Count\"]\n",
    "\n",
    "fig2 = px.bar(category_count, x=\"Category\", y=\"Count\", \n",
    "              title=\"Product Categories Count\", \n",
    "              labels={\"Category\": \"Product Category\", \"Count\": \"Count\"})\n",
    "fig2.show()\n",
    "signup_trends = data.groupby(data[\"SignupDate\"].dt.to_period(\"M\")).size().reset_index()\n",
    "signup_trends.columns = [\"SignupMonth\", \"Count\"]\n",
    "\n",
    "signup_trends[\"SignupMonth\"] = signup_trends[\"SignupMonth\"].astype(str)\n",
    "\n",
    "fig3 = px.line(signup_trends, x=\"SignupMonth\", y=\"Count\", \n",
    "               title=\"Customer Signup Trends Over Time\", \n",
    "               labels={\"SignupMonth\": \"Signup Month\", \"Count\": \"Number of Signups\"})\n",
    "fig3.show()\n"
   ]
  }
 ],
 "metadata": {
  "kernelspec": {
   "display_name": "Python 3 (ipykernel)",
   "language": "python",
   "name": "python3"
  },
  "language_info": {
   "codemirror_mode": {
    "name": "ipython",
    "version": 3
   },
   "file_extension": ".py",
   "mimetype": "text/x-python",
   "name": "python",
   "nbconvert_exporter": "python",
   "pygments_lexer": "ipython3",
   "version": "3.9.12"
  }
 },
 "nbformat": 4,
 "nbformat_minor": 5
}
